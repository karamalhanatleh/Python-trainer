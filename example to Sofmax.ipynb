{
 "cells": [
  {
   "cell_type": "markdown",
   "id": "876f3ed7",
   "metadata": {},
   "source": [
    "# example to Sofmax"
   ]
  },
  {
   "cell_type": "code",
   "execution_count": 1,
   "id": "d1e3e808",
   "metadata": {},
   "outputs": [],
   "source": [
    "#import paskages\n",
    "import numpy as np"
   ]
  },
  {
   "cell_type": "code",
   "execution_count": 8,
   "id": "947f5f22",
   "metadata": {},
   "outputs": [],
   "source": [
    "def softmax(logits):\n",
    "    exp_logits = np.exp(logits)\n",
    "    \n",
    "    sum_exp_logits = np.sum(exp_logits)\n",
    "    \n",
    "    sofmax_probs = exp_logits/sum_exp_logits\n",
    "    \n",
    "    return np.round(sofmax_probs,2)"
   ]
  },
  {
   "cell_type": "code",
   "execution_count": 9,
   "id": "c76da86b",
   "metadata": {},
   "outputs": [
    {
     "name": "stdout",
     "output_type": "stream",
     "text": [
      "[0.66 0.24 0.1 ]\n"
     ]
    }
   ],
   "source": [
    "arr1 = np.array([2.0, 1.0, 0.1])\n",
    "softmax_probs = softmax(arr1)\n",
    "print(softmax_probs)"
   ]
  },
  {
   "cell_type": "code",
   "execution_count": 10,
   "id": "d588a1b0",
   "metadata": {},
   "outputs": [
    {
     "name": "stdout",
     "output_type": "stream",
     "text": [
      "[0.13 0.87 0.  ]\n"
     ]
    }
   ],
   "source": [
    "arr2= np.array([3.2 ,5.1 , -1.7])\n",
    "softmax_probs = softmax(arr2)\n",
    "print(softmax_probs)"
   ]
  },
  {
   "cell_type": "code",
   "execution_count": null,
   "id": "4aa315ae",
   "metadata": {},
   "outputs": [],
   "source": []
  }
 ],
 "metadata": {
  "kernelspec": {
   "display_name": "Python 3 (ipykernel)",
   "language": "python",
   "name": "python3"
  },
  "language_info": {
   "codemirror_mode": {
    "name": "ipython",
    "version": 3
   },
   "file_extension": ".py",
   "mimetype": "text/x-python",
   "name": "python",
   "nbconvert_exporter": "python",
   "pygments_lexer": "ipython3",
   "version": "3.9.13"
  }
 },
 "nbformat": 4,
 "nbformat_minor": 5
}
