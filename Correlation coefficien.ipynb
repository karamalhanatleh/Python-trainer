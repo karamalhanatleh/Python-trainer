{
 "cells": [
  {
   "cell_type": "code",
   "execution_count": 3,
   "id": "f37582e1",
   "metadata": {},
   "outputs": [],
   "source": [
    "import numpy as np"
   ]
  },
  {
   "cell_type": "code",
   "execution_count": 4,
   "id": "12163477",
   "metadata": {},
   "outputs": [],
   "source": [
    "def corr_coef(a,b):\n",
    "    a_tilde = a - sum(a)/len(a)\n",
    "    b_tilde = b - sum(b)/len(b)\n",
    "    denom = (np.linalg.norm(a_tilde) * np.linalg.norm(b_tilde))\n",
    "    return (a_tilde @ b_tilde) /denom\n"
   ]
  },
  {
   "cell_type": "code",
   "execution_count": 6,
   "id": "620b7f7a",
   "metadata": {},
   "outputs": [
    {
     "data": {
      "text/plain": [
       "4"
      ]
     },
     "execution_count": 6,
     "metadata": {},
     "output_type": "execute_result"
    }
   ],
   "source": [
    "x=np.array([3,4])\n",
    "y=np.array([0,1])\n",
    "x@y"
   ]
  },
  {
   "cell_type": "code",
   "execution_count": 7,
   "id": "c299b87e",
   "metadata": {},
   "outputs": [],
   "source": [
    "x_simple = np.array([-2, -1, 0, 1, 2])\n",
    "y_simple = np.array([4, 1, 3, 2, 0])"
   ]
  },
  {
   "cell_type": "code",
   "execution_count": 8,
   "id": "f5ce6c2b",
   "metadata": {},
   "outputs": [
    {
     "data": {
      "text/plain": [
       "-0.6999999999999998"
      ]
     },
     "execution_count": 8,
     "metadata": {},
     "output_type": "execute_result"
    }
   ],
   "source": [
    "corr_coef(x_simple, y_simple)"
   ]
  },
  {
   "cell_type": "code",
   "execution_count": null,
   "id": "3f81574d",
   "metadata": {},
   "outputs": [],
   "source": []
  }
 ],
 "metadata": {
  "kernelspec": {
   "display_name": "Python 3 (ipykernel)",
   "language": "python",
   "name": "python3"
  },
  "language_info": {
   "codemirror_mode": {
    "name": "ipython",
    "version": 3
   },
   "file_extension": ".py",
   "mimetype": "text/x-python",
   "name": "python",
   "nbconvert_exporter": "python",
   "pygments_lexer": "ipython3",
   "version": "3.9.13"
  }
 },
 "nbformat": 4,
 "nbformat_minor": 5
}
