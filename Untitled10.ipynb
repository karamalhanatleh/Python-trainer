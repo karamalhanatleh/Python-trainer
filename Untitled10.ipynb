{
 "cells": [
  {
   "cell_type": "code",
   "execution_count": 11,
   "id": "3e071194",
   "metadata": {},
   "outputs": [],
   "source": [
    "\n",
    "\n",
    "import pyautogui as py\n",
    "import pyautogui\n",
    "import webbrowser as web\n",
    "import time as ti\n",
    "\n",
    "\n",
    "#web.open('https://www.youtube.com')\n",
    "\n",
    "#ti.sleep(2)\n",
    "\n",
    "#py.write('Hello world!', interval=0.1)\n",
    "\n",
    "#py.press('PgDn')\n",
    "#ti.sleep(3)\n",
    "#py.press('win')\n",
    "#ti.sleep(2)\n",
    "#py.typewrite('spyder')\n",
    "\n",
    "#ti.sleep(1)\n",
    "#py.press('enter')"
   ]
  },
  {
   "cell_type": "raw",
   "id": "4cc20384",
   "metadata": {},
   "source": []
  },
  {
   "cell_type": "code",
   "execution_count": 15,
   "id": "b31d249c",
   "metadata": {},
   "outputs": [
    {
     "data": {
      "text/plain": [
       "Point(x=663, y=281)"
      ]
     },
     "execution_count": 15,
     "metadata": {},
     "output_type": "execute_result"
    }
   ],
   "source": [
    "position=pyautogui.position() \n",
    "position"
   ]
  },
  {
   "cell_type": "code",
   "execution_count": 16,
   "id": "2b5776cb",
   "metadata": {},
   "outputs": [
    {
     "data": {
      "text/plain": [
       "Size(width=1280, height=1024)"
      ]
     },
     "execution_count": 16,
     "metadata": {},
     "output_type": "execute_result"
    }
   ],
   "source": [
    "pyautogui.size() "
   ]
  },
  {
   "cell_type": "code",
   "execution_count": 18,
   "id": "90f5966b",
   "metadata": {},
   "outputs": [],
   "source": [
    "pyautogui.moveTo(300,100)                           \n"
   ]
  },
  {
   "cell_type": "code",
   "execution_count": 21,
   "id": "309d0151",
   "metadata": {},
   "outputs": [],
   "source": [
    "pyautogui.mouseDown(button='right')             \n"
   ]
  },
  {
   "cell_type": "code",
   "execution_count": 22,
   "id": "6be36d62",
   "metadata": {},
   "outputs": [],
   "source": [
    "pyautogui.mouseDown(button='right')\n",
    "pyautogui.mouseUp(button='right')      \n"
   ]
  },
  {
   "cell_type": "code",
   "execution_count": null,
   "id": "9993c57c",
   "metadata": {},
   "outputs": [],
   "source": []
  }
 ],
 "metadata": {
  "kernelspec": {
   "display_name": "Python 3 (ipykernel)",
   "language": "python",
   "name": "python3"
  },
  "language_info": {
   "codemirror_mode": {
    "name": "ipython",
    "version": 3
   },
   "file_extension": ".py",
   "mimetype": "text/x-python",
   "name": "python",
   "nbconvert_exporter": "python",
   "pygments_lexer": "ipython3",
   "version": "3.9.13"
  }
 },
 "nbformat": 4,
 "nbformat_minor": 5
}
