{
 "cells": [
  {
   "cell_type": "code",
   "execution_count": 10,
   "id": "1e1a6e81",
   "metadata": {},
   "outputs": [
    {
     "ename": "ModuleNotFoundError",
     "evalue": "No module named 'HandTrackingModule'",
     "output_type": "error",
     "traceback": [
      "\u001b[1;31m---------------------------------------------------------------------------\u001b[0m",
      "\u001b[1;31mModuleNotFoundError\u001b[0m                       Traceback (most recent call last)",
      "Cell \u001b[1;32mIn [10], line 4\u001b[0m\n\u001b[0;32m      2\u001b[0m \u001b[38;5;28;01mimport\u001b[39;00m \u001b[38;5;21;01mtime\u001b[39;00m\n\u001b[0;32m      3\u001b[0m \u001b[38;5;28;01mimport\u001b[39;00m \u001b[38;5;21;01mnumpy\u001b[39;00m \u001b[38;5;28;01mas\u001b[39;00m \u001b[38;5;21;01mnp\u001b[39;00m\n\u001b[1;32m----> 4\u001b[0m \u001b[38;5;28;01mimport\u001b[39;00m \u001b[38;5;21;01mHandTrackingModule\u001b[39;00m \u001b[38;5;28;01mas\u001b[39;00m \u001b[38;5;21;01mhtm\u001b[39;00m\n\u001b[0;32m      5\u001b[0m \u001b[38;5;28;01mimport\u001b[39;00m \u001b[38;5;21;01mmath\u001b[39;00m\n\u001b[0;32m      6\u001b[0m \u001b[38;5;28;01mfrom\u001b[39;00m \u001b[38;5;21;01mctypes\u001b[39;00m \u001b[38;5;28;01mimport\u001b[39;00m cast, POINTER\n",
      "\u001b[1;31mModuleNotFoundError\u001b[0m: No module named 'HandTrackingModule'"
     ]
    }
   ],
   "source": [
    "import cv2\n",
    "import time\n",
    "import numpy as np\n",
    "import HandTrackingModule as htm\n",
    "import math\n",
    "from ctypes import cast, POINTER\n",
    "from comtypes import CLSCTX_ALL\n",
    "from pycaw.pycaw import AudioUtilities, IAudioEndpointVolume\n",
    " \n",
    "################################\n",
    "wCam, hCam = 640, 480\n",
    "################################\n",
    " \n",
    "cap = cv2.VideoCapture(1)\n",
    "cap.set(3, wCam)\n",
    "cap.set(4, hCam)\n",
    "pTime = 0\n",
    " \n",
    "detector = htm.handDetector(detectionCon=0.7)\n",
    " \n",
    "devices = AudioUtilities.GetSpeakers()\n",
    "interface = devices.Activate(\n",
    "    IAudioEndpointVolume._iid_, CLSCTX_ALL, None)\n",
    "volume = cast(interface, POINTER(IAudioEndpointVolume))\n",
    "# volume.GetMute()\n",
    "# volume.GetMasterVolumeLevel()\n",
    "volRange = volume.GetVolumeRange()\n",
    "minVol = volRange[0]\n",
    "maxVol = volRange[1]\n",
    "vol = 0\n",
    "volBar = 400\n",
    "volPer = 0\n",
    "while True:\n",
    "    success, img = cap.read()\n",
    "    img = detector.findHands(img)\n",
    "    lmList = detector.findPosition(img, draw=False)\n",
    "    if len(lmList) != 0:\n",
    "        # print(lmList[4], lmList[8])\n",
    " \n",
    "        x1, y1 = lmList[4][1], lmList[4][2]\n",
    "        x2, y2 = lmList[8][1], lmList[8][2]\n",
    "        cx, cy = (x1 + x2) // 2, (y1 + y2) // 2\n",
    " \n",
    "        cv2.circle(img, (x1, y1), 15, (255, 0, 255), cv2.FILLED)\n",
    "        cv2.circle(img, (x2, y2), 15, (255, 0, 255), cv2.FILLED)\n",
    "        cv2.line(img, (x1, y1), (x2, y2), (255, 0, 255), 3)\n",
    "        cv2.circle(img, (cx, cy), 15, (255, 0, 255), cv2.FILLED)\n",
    " \n",
    "        length = math.hypot(x2 - x1, y2 - y1)\n",
    "        # print(length)\n",
    " \n",
    "        # Hand range 50 - 300\n",
    "        # Volume Range -65 - 0\n",
    " \n",
    "        vol = np.interp(length, [50, 300], [minVol, maxVol])\n",
    "        volBar = np.interp(length, [50, 300], [400, 150])\n",
    "        volPer = np.interp(length, [50, 300], [0, 100])\n",
    "        print(int(length), vol)\n",
    "        volume.SetMasterVolumeLevel(vol, None)\n",
    " \n",
    "        if length < 50:\n",
    "            cv2.circle(img, (cx, cy), 15, (0, 255, 0), cv2.FILLED)\n",
    " \n",
    "    cv2.rectangle(img, (50, 150), (85, 400), (255, 0, 0), 3)\n",
    "    cv2.rectangle(img, (50, int(volBar)), (85, 400), (255, 0, 0), cv2.FILLED)\n",
    "    cv2.putText(img, f'{int(volPer)} %', (40, 450), cv2.FONT_HERSHEY_COMPLEX,\n",
    "                1, (255, 0, 0), 3)\n",
    " \n",
    " \n",
    "    cTime = time.time()\n",
    "    fps = 1 / (cTime - pTime)\n",
    "    pTime = cTime\n",
    "    cv2.putText(img, f'FPS: {int(fps)}', (40, 50), cv2.FONT_HERSHEY_COMPLEX,\n",
    "                1, (255, 0, 0), 3)\n",
    " \n",
    "    cv2.imshow(\"Img\", img)\n",
    "    cv2.waitKey(1)"
   ]
  },
  {
   "cell_type": "code",
   "execution_count": null,
   "id": "f7eaf1a1",
   "metadata": {},
   "outputs": [],
   "source": []
  },
  {
   "cell_type": "code",
   "execution_count": null,
   "id": "1ae277b4",
   "metadata": {},
   "outputs": [],
   "source": []
  }
 ],
 "metadata": {
  "kernelspec": {
   "display_name": "Python 3 (ipykernel)",
   "language": "python",
   "name": "python3"
  },
  "language_info": {
   "codemirror_mode": {
    "name": "ipython",
    "version": 3
   },
   "file_extension": ".py",
   "mimetype": "text/x-python",
   "name": "python",
   "nbconvert_exporter": "python",
   "pygments_lexer": "ipython3",
   "version": "3.9.7"
  }
 },
 "nbformat": 4,
 "nbformat_minor": 5
}
