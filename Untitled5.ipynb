{
 "cells": [
  {
   "cell_type": "code",
   "execution_count": 7,
   "id": "1f54a774",
   "metadata": {},
   "outputs": [
    {
     "ename": "NameError",
     "evalue": "name 'st' is not defined",
     "output_type": "error",
     "traceback": [
      "\u001b[1;31m---------------------------------------------------------------------------\u001b[0m",
      "\u001b[1;31mNameError\u001b[0m                                 Traceback (most recent call last)",
      "Cell \u001b[1;32mIn [7], line 10\u001b[0m\n\u001b[0;32m      7\u001b[0m hands \u001b[38;5;241m=\u001b[39m mp_hands\u001b[38;5;241m.\u001b[39mHands ()\n\u001b[0;32m      9\u001b[0m \u001b[38;5;28;01mwhile\u001b[39;00m \u001b[38;5;28;01mTrue\u001b[39;00m:\n\u001b[1;32m---> 10\u001b[0m     \u001b[43mst\u001b[49m, frame\n\u001b[0;32m     12\u001b[0m     cap\u001b[38;5;241m.\u001b[39m read ()\n\u001b[0;32m     14\u001b[0m     rgb_frame\u001b[38;5;241m=\u001b[39mcv2\u001b[38;5;241m.\u001b[39mcvtColor(frame, cv2\u001b[38;5;241m.\u001b[39mCOLOR_BGR2RGB)\n",
      "\u001b[1;31mNameError\u001b[0m: name 'st' is not defined"
     ]
    }
   ],
   "source": [
    "import cv2\n",
    "import mediapipe as mp\n",
    "from mediapipe import *\n",
    "\n",
    "cap = cv2.VideoCapture (0)\n",
    "mp_hands = mp.solutions.hands\n",
    "hands = mp_hands.Hands ()\n",
    "\n",
    "while True:\n",
    "    st, frame\n",
    "\n",
    "    cap. read ()\n",
    "\n",
    "    rgb_frame=cv2.cvtColor(frame, cv2.COLOR_BGR2RGB)\n",
    "\n"
   ]
  },
  {
   "cell_type": "code",
   "execution_count": 6,
   "id": "ec05ce7a",
   "metadata": {},
   "outputs": [
    {
     "data": {
      "text/plain": [
       "'/Users/KRM0201517/AppData/Local/Programs/Python/Python39/Lib/site-packages'"
      ]
     },
     "execution_count": 6,
     "metadata": {},
     "output_type": "execute_result"
    }
   ],
   "source": [
    "import cv2\n",
    "import mediapipe as mp\n",
    "from mediapipe import *\n",
    "'''\n",
    "cap = cv2.VideoCapture (0)\n",
    "mp_hands = mp.solutions.hands\n",
    "hands = mp_hands. Hands ()\n",
    "\n",
    "while True:\n",
    "    st, frame\n",
    "\n",
    "    cap. read ()\n",
    "\n",
    "    rgb_frame=cv2.cvtColor(frame, cv2.COLOR_BGR2RGB)\n",
    "'''\n"
   ]
  },
  {
   "cell_type": "code",
   "execution_count": null,
   "id": "853c0287",
   "metadata": {},
   "outputs": [],
   "source": []
  },
  {
   "cell_type": "code",
   "execution_count": null,
   "id": "f781227a",
   "metadata": {},
   "outputs": [],
   "source": []
  },
  {
   "cell_type": "code",
   "execution_count": 2,
   "id": "0abc6184",
   "metadata": {},
   "outputs": [
    {
     "ename": "ModuleNotFoundError",
     "evalue": "No module named 'cv2'",
     "output_type": "error",
     "traceback": [
      "\u001b[1;31m---------------------------------------------------------------------------\u001b[0m",
      "\u001b[1;31mModuleNotFoundError\u001b[0m                       Traceback (most recent call last)",
      "Cell \u001b[1;32mIn [2], line 1\u001b[0m\n\u001b[1;32m----> 1\u001b[0m \u001b[38;5;28;01mimport\u001b[39;00m \u001b[38;5;21;01mcv2\u001b[39;00m\n\u001b[0;32m      2\u001b[0m \u001b[38;5;28;01mimport\u001b[39;00m \u001b[38;5;21;01mpytesseract\u001b[39;00m\n\u001b[0;32m      4\u001b[0m \u001b[38;5;28;01mdef\u001b[39;00m \u001b[38;5;21mimage_to_text\u001b[39m():\n",
      "\u001b[1;31mModuleNotFoundError\u001b[0m: No module named 'cv2'"
     ]
    }
   ],
   "source": [
    "import cv2\n",
    "import pytesseract\n",
    "\n",
    "def image_to_text():\n",
    "    try:\n",
    "        path=input(\"please enter path : \")\n",
    "        name_img=input(\"please enter name image : \")\n",
    "        pytesseract.pytesseract.tesseract_cmd=\"C:\\\\Program Files\\\\Tesseract-OCR\\\\tesseract.exe\"\n",
    "        img=cv2.imread(\"%s\\%s\"%(path , name_img),0)\n",
    "        \n",
    "        extract_text=pytesseract.image_to_string(img)\n",
    "        \n",
    "        print(extract_text)\n",
    "        \"\"\"\n",
    "        sav=input(\"do you have save text (y\\\\n) : \")\n",
    "        if sav=='y':\n",
    "            extract_text.\n",
    "        else:\n",
    "            print(\"The finish...\")\n",
    "    \"\"\"\n",
    "    except:\n",
    "        print(\"please Try again\")\n",
    "\n",
    "image_to_text()\n",
    "        \n"
   ]
  },
  {
   "cell_type": "code",
   "execution_count": 7,
   "id": "26658794",
   "metadata": {},
   "outputs": [],
   "source": [
    "f = open(\"test.txt\", \"a\")\n"
   ]
  },
  {
   "cell_type": "code",
   "execution_count": 11,
   "id": "52e6ba68",
   "metadata": {},
   "outputs": [
    {
     "name": "stdout",
     "output_type": "stream",
     "text": [
      "enter  ggg\n"
     ]
    },
    {
     "data": {
      "text/plain": [
       "'C:\\\\Users\\\\KRM0201517\\\\Desktop\\\\img-to-txt\\\\ggg.txt'"
      ]
     },
     "execution_count": 11,
     "metadata": {},
     "output_type": "execute_result"
    }
   ],
   "source": [
    "fil_name=input(\"enter  \")\n",
    "('C:\\\\Users\\\\KRM0201517\\\\Desktop\\\\img-to-txt\\\\%s.txt'%(fil_name))"
   ]
  },
  {
   "cell_type": "code",
   "execution_count": null,
   "id": "12b634c5",
   "metadata": {},
   "outputs": [],
   "source": [
    "def dubl(path):\n",
    "    "
   ]
  },
  {
   "cell_type": "code",
   "execution_count": 54,
   "id": "25f5ea8a",
   "metadata": {},
   "outputs": [
    {
     "data": {
      "text/plain": [
       "['C:\\\\Users\\\\KRM0201517\\\\Desktop\\\\img-to-txt\\\\karam', 'png']"
      ]
     },
     "execution_count": 54,
     "metadata": {},
     "output_type": "execute_result"
    }
   ],
   "source": [
    "text='C:\\\\Users\\\\KRM0201517\\\\Desktop\\\\img-to-txt\\\\karam.png'\n",
    "text.rsplit('.')"
   ]
  },
  {
   "cell_type": "code",
   "execution_count": 56,
   "id": "36fbd80f",
   "metadata": {},
   "outputs": [
    {
     "name": "stdout",
     "output_type": "stream",
     "text": [
      "karam\n"
     ]
    }
   ],
   "source": [
    "a=text.find('.')\n",
    "if a>=0:\n",
    "    b=text.split('.')\n",
    "    cc=b[-1]\n",
    "    d=b[0]\n",
    "    d_rev=d[::-1]\n",
    "    find=d_rev.find('\\\\')\n",
    "    d_rev=d_rev[:find]\n",
    "    d_rev=d_rev[::-1]\n",
    "    print(d_rev)"
   ]
  },
  {
   "cell_type": "code",
   "execution_count": 61,
   "id": "cf0e7745",
   "metadata": {},
   "outputs": [
    {
     "data": {
      "text/plain": [
       "'gnp.marak'"
      ]
     },
     "execution_count": 61,
     "metadata": {},
     "output_type": "execute_result"
    }
   ],
   "source": [
    "a=text\n",
    "a=str(a)\n",
    "d_rev=a[::-1]\n",
    "find=d_rev.find('\\\\')\n",
    "d_rev=d_rev[:find]\n",
    "d_rev\n"
   ]
  },
  {
   "cell_type": "code",
   "execution_count": 62,
   "id": "f1373742",
   "metadata": {},
   "outputs": [
    {
     "name": "stdout",
     "output_type": "stream",
     "text": [
      "karam.png\n"
     ]
    }
   ],
   "source": [
    "d_rev=d_rev[::-1]\n",
    "print(d_rev)"
   ]
  },
  {
   "cell_type": "code",
   "execution_count": 87,
   "id": "c3d965a9",
   "metadata": {},
   "outputs": [],
   "source": [
    "\n",
    "def pat(path):\n",
    "    a=str(path)\n",
    "    d_rev=a[::-1]\n",
    "    find=d_rev.find('\\\\')\n",
    "    d_rev=d_rev[:find]\n",
    "    name_img=d_rev[::-1]\n",
    "    return name_img"
   ]
  },
  {
   "cell_type": "code",
   "execution_count": 90,
   "id": "ae8aab38",
   "metadata": {},
   "outputs": [
    {
     "ename": "SyntaxError",
     "evalue": "(unicode error) 'unicodeescape' codec can't decode bytes in position 2-3: truncated \\UXXXXXXXX escape (96084592.py, line 1)",
     "output_type": "error",
     "traceback": [
      "\u001b[1;36m  Cell \u001b[1;32mIn [90], line 1\u001b[1;36m\u001b[0m\n\u001b[1;33m    path='C:\\Users\\KRM0201517\\Desktop\\12.png'\u001b[0m\n\u001b[1;37m                                             ^\u001b[0m\n\u001b[1;31mSyntaxError\u001b[0m\u001b[1;31m:\u001b[0m (unicode error) 'unicodeescape' codec can't decode bytes in position 2-3: truncated \\UXXXXXXXX escape\n"
     ]
    }
   ],
   "source": [
    "path='C:\\Users\\KRM0201517\\Desktop\\12.png'\n",
    "path=r'%s'%path\n",
    "a=path.find('.')\n",
    "if a!=-1:\n",
    "    pat(path)"
   ]
  },
  {
   "cell_type": "code",
   "execution_count": null,
   "id": "167ae3c3",
   "metadata": {},
   "outputs": [],
   "source": []
  },
  {
   "cell_type": "code",
   "execution_count": null,
   "id": "d1752c8b",
   "metadata": {},
   "outputs": [],
   "source": []
  },
  {
   "cell_type": "code",
   "execution_count": null,
   "id": "fe3bc9e6",
   "metadata": {},
   "outputs": [],
   "source": []
  }
 ],
 "metadata": {
  "kernelspec": {
   "display_name": "Python 3 (ipykernel)",
   "language": "python",
   "name": "python3"
  },
  "language_info": {
   "codemirror_mode": {
    "name": "ipython",
    "version": 3
   },
   "file_extension": ".py",
   "mimetype": "text/x-python",
   "name": "python",
   "nbconvert_exporter": "python",
   "pygments_lexer": "ipython3",
   "version": "3.9.7"
  }
 },
 "nbformat": 4,
 "nbformat_minor": 5
}
