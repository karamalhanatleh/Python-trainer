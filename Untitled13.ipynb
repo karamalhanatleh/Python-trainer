{
 "cells": [
  {
   "cell_type": "code",
   "execution_count": 2,
   "id": "bdfc2a66",
   "metadata": {},
   "outputs": [
    {
     "data": {
      "text/plain": [
       "array([[2, 3],\n",
       "       [4, 5]])"
      ]
     },
     "execution_count": 2,
     "metadata": {},
     "output_type": "execute_result"
    }
   ],
   "source": [
    "import numpy as np\n",
    "np_2d = np.array([[2,3],[4,5]])    \n",
    "np_2d"
   ]
  },
  {
   "cell_type": "code",
   "execution_count": 3,
   "id": "da1365a7",
   "metadata": {},
   "outputs": [
    {
     "name": "stdout",
     "output_type": "stream",
     "text": [
      "3\n"
     ]
    }
   ],
   "source": [
    "print(np_2d[-2,1])"
   ]
  },
  {
   "cell_type": "code",
   "execution_count": 4,
   "id": "e6f5c839",
   "metadata": {},
   "outputs": [
    {
     "name": "stdout",
     "output_type": "stream",
     "text": [
      "13\n"
     ]
    }
   ],
   "source": [
    "import numpy as np\n",
    "z = np.array([[28, 0, 13], \n",
    "              [19, 3, 10]])\n",
    "print(z[0][2])"
   ]
  },
  {
   "cell_type": "code",
   "execution_count": null,
   "id": "4712dedf",
   "metadata": {},
   "outputs": [],
   "source": []
  }
 ],
 "metadata": {
  "kernelspec": {
   "display_name": "Python 3 (ipykernel)",
   "language": "python",
   "name": "python3"
  },
  "language_info": {
   "codemirror_mode": {
    "name": "ipython",
    "version": 3
   },
   "file_extension": ".py",
   "mimetype": "text/x-python",
   "name": "python",
   "nbconvert_exporter": "python",
   "pygments_lexer": "ipython3",
   "version": "3.9.13"
  }
 },
 "nbformat": 4,
 "nbformat_minor": 5
}
