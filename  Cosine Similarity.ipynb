{
 "cells": [
  {
   "cell_type": "markdown",
   "id": "aef6a410",
   "metadata": {},
   "source": [
    "# Cosine Similarity"
   ]
  },
  {
   "cell_type": "markdown",
   "id": "a891f400",
   "metadata": {},
   "source": [
    "#### cos(d1, d2) =  (d1 . d2) /||d1|| ||d2|| "
   ]
  },
  {
   "cell_type": "code",
   "execution_count": 5,
   "id": "652a8dec",
   "metadata": {},
   "outputs": [],
   "source": [
    "import numpy as np\n",
    "from numpy.linalg import norm"
   ]
  },
  {
   "cell_type": "code",
   "execution_count": 8,
   "id": "a43f1a30",
   "metadata": {},
   "outputs": [
    {
     "name": "stdout",
     "output_type": "stream",
     "text": [
      "d1: [5 0 3 0 2 0 0 2 0 0]\n",
      "d2: [3 0 2 0 1 1 0 1 0 1]\n",
      "Cosine Similarity: 0.9356014857063997\n"
     ]
    }
   ],
   "source": [
    "\n",
    "\n",
    "d1 = np.array([5, 0, 3, 0, 2, 0, 0, 2, 0, 0])\n",
    "d2 = np.array([3, 0, 2, 0, 1, 1, 0, 1, 0, 1])\n",
    "\n",
    "print(\"d1:\", d1)\n",
    "print(\"d2:\", d2)\n",
    "\n",
    "cosine = np.dot(d1,d2)/(norm(d1)*norm(d2))\n",
    "print(\"Cosine Similarity:\", cosine)\n"
   ]
  },
  {
   "cell_type": "code",
   "execution_count": 4,
   "id": "8cb1c286",
   "metadata": {},
   "outputs": [
    {
     "data": {
      "text/plain": [
       "11"
      ]
     },
     "execution_count": 4,
     "metadata": {},
     "output_type": "execute_result"
    }
   ],
   "source": [
    "##\n",
    "a=[1,2]\n",
    "b=[3,4]\n",
    "## 1*3 + 2 * 4\n",
    "\n",
    "np.dot(a,b)"
   ]
  },
  {
   "cell_type": "code",
   "execution_count": 11,
   "id": "b9e7c977",
   "metadata": {},
   "outputs": [
    {
     "name": "stdout",
     "output_type": "stream",
     "text": [
      "d1: [5 0 3 0 2 0 0 2 0 0]\n",
      "d2: [3 0 2 0 1 1 0 1 0 1]\n",
      "Cosine Similarity: 0.9356014857063997\n"
     ]
    }
   ],
   "source": [
    "def  Cos_Sim(d1,d2):\n",
    "\n",
    "\n",
    "    print(\"d1:\", d1)\n",
    "    print(\"d2:\", d2)\n",
    "\n",
    "    cosine = np.dot(d1,d2)/(norm(d1)*norm(d2))\n",
    "    print(\"Cosine Similarity:\", cosine)\n",
    "\n",
    "Cos_Sim(d1,d2)"
   ]
  }
 ],
 "metadata": {
  "kernelspec": {
   "display_name": "Python 3 (ipykernel)",
   "language": "python",
   "name": "python3"
  },
  "language_info": {
   "codemirror_mode": {
    "name": "ipython",
    "version": 3
   },
   "file_extension": ".py",
   "mimetype": "text/x-python",
   "name": "python",
   "nbconvert_exporter": "python",
   "pygments_lexer": "ipython3",
   "version": "3.9.13"
  }
 },
 "nbformat": 4,
 "nbformat_minor": 5
}
