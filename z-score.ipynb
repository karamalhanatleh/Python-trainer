{
 "cells": [
  {
   "cell_type": "markdown",
   "id": "c984c479",
   "metadata": {},
   "source": [
    "# Standardizing Numeric Data"
   ]
  },
  {
   "cell_type": "markdown",
   "id": "21e24d55",
   "metadata": {},
   "source": [
    "# Z-Score"
   ]
  },
  {
   "cell_type": "code",
   "execution_count": 2,
   "id": "cd0e2a38",
   "metadata": {},
   "outputs": [],
   "source": [
    "import numpy as np"
   ]
  },
  {
   "cell_type": "code",
   "execution_count": 42,
   "id": "f3a83333",
   "metadata": {},
   "outputs": [],
   "source": [
    "x=[1,2,3,4,5,6,7]"
   ]
  },
  {
   "cell_type": "code",
   "execution_count": 43,
   "id": "6392296f",
   "metadata": {},
   "outputs": [
    {
     "data": {
      "text/plain": [
       "4.0"
      ]
     },
     "execution_count": 43,
     "metadata": {},
     "output_type": "execute_result"
    }
   ],
   "source": [
    "np.mean(x)"
   ]
  },
  {
   "cell_type": "code",
   "execution_count": 44,
   "id": "add6db24",
   "metadata": {},
   "outputs": [
    {
     "data": {
      "text/plain": [
       "2.0"
      ]
     },
     "execution_count": 44,
     "metadata": {},
     "output_type": "execute_result"
    }
   ],
   "source": [
    "np.std(x)"
   ]
  },
  {
   "cell_type": "code",
   "execution_count": 46,
   "id": "01ba04fa",
   "metadata": {},
   "outputs": [
    {
     "data": {
      "text/plain": [
       "2.0"
      ]
     },
     "execution_count": 46,
     "metadata": {},
     "output_type": "execute_result"
    }
   ],
   "source": [
    "np.std(x, ddof=0)\n"
   ]
  },
  {
   "cell_type": "code",
   "execution_count": 47,
   "id": "b06c9c5f",
   "metadata": {},
   "outputs": [
    {
     "data": {
      "text/plain": [
       "2.160246899469287"
      ]
     },
     "execution_count": 47,
     "metadata": {},
     "output_type": "execute_result"
    }
   ],
   "source": [
    "np.std(x, ddof=1)\n"
   ]
  },
  {
   "cell_type": "code",
   "execution_count": 48,
   "id": "e1a04d91",
   "metadata": {},
   "outputs": [
    {
     "name": "stdout",
     "output_type": "stream",
     "text": [
      "[[0.08451543 0.16903085 0.25354628 0.3380617  0.42257713 0.50709255\n",
      "  0.59160798]]\n"
     ]
    }
   ],
   "source": [
    "from sklearn import preprocessing\n",
    "import numpy as np\n",
    "x_array = np.array([ 1,2,3,4,5,6,7])\n",
    "normalized_arr = preprocessing.normalize([x_array])\n",
    "print(normalized_arr)"
   ]
  },
  {
   "cell_type": "code",
   "execution_count": 51,
   "id": "90925a17",
   "metadata": {},
   "outputs": [],
   "source": [
    "####"
   ]
  },
  {
   "cell_type": "code",
   "execution_count": 52,
   "id": "fdda7cb1",
   "metadata": {},
   "outputs": [
    {
     "name": "stdout",
     "output_type": "stream",
     "text": [
      "[-1.5 -1.  -0.5  0.   0.5  1.   1.5]\n"
     ]
    }
   ],
   "source": [
    "import scipy.stats as stats\n",
    "values = [1,2,3,4,5,6,7]\n",
    "\n",
    "zscores = stats.zscore(values)\n",
    "print(zscores)"
   ]
  },
  {
   "cell_type": "code",
   "execution_count": null,
   "id": "f84cf52f",
   "metadata": {},
   "outputs": [],
   "source": []
  },
  {
   "cell_type": "code",
   "execution_count": 53,
   "id": "e735a261",
   "metadata": {},
   "outputs": [],
   "source": [
    "####"
   ]
  },
  {
   "cell_type": "code",
   "execution_count": 57,
   "id": "27234b2c",
   "metadata": {},
   "outputs": [],
   "source": [
    "values = [1,2,3,4,5,6,7]\n",
    "m=np.mean(values)\n",
    "s=np.std(x)\n",
    "z_score=[]\n",
    "for i in values:\n",
    "    a=(i-m)/s\n",
    "    z_score.append(a)"
   ]
  },
  {
   "cell_type": "code",
   "execution_count": 58,
   "id": "e15e1900",
   "metadata": {},
   "outputs": [
    {
     "data": {
      "text/plain": [
       "[-1.5, -1.0, -0.5, 0.0, 0.5, 1.0, 1.5]"
      ]
     },
     "execution_count": 58,
     "metadata": {},
     "output_type": "execute_result"
    }
   ],
   "source": [
    "z_score"
   ]
  },
  {
   "cell_type": "code",
   "execution_count": null,
   "id": "8060869f",
   "metadata": {},
   "outputs": [],
   "source": []
  }
 ],
 "metadata": {
  "kernelspec": {
   "display_name": "Python 3 (ipykernel)",
   "language": "python",
   "name": "python3"
  },
  "language_info": {
   "codemirror_mode": {
    "name": "ipython",
    "version": 3
   },
   "file_extension": ".py",
   "mimetype": "text/x-python",
   "name": "python",
   "nbconvert_exporter": "python",
   "pygments_lexer": "ipython3",
   "version": "3.9.13"
  }
 },
 "nbformat": 4,
 "nbformat_minor": 5
}
