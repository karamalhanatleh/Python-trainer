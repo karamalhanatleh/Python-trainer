{
 "cells": [
  {
   "cell_type": "code",
   "execution_count": 2,
   "id": "86efe932",
   "metadata": {},
   "outputs": [],
   "source": [
    "def m(i,o):\n",
    "    i=round(((i*0.71)/12)*1000)\n",
    "    o=round(((o*0.71)/12)*1000)\n",
    "    print(\"Min\",i , \"\\nMax\", o)\n",
    "    "
   ]
  },
  {
   "cell_type": "code",
   "execution_count": 13,
   "id": "5f080ada",
   "metadata": {},
   "outputs": [
    {
     "name": "stdout",
     "output_type": "stream",
     "text": [
      "Min 9467 \n",
      "Max 11833\n"
     ]
    }
   ],
   "source": [
    "m(160 ,200)"
   ]
  },
  {
   "cell_type": "code",
   "execution_count": 4,
   "id": "8b01f3ae",
   "metadata": {},
   "outputs": [
    {
     "name": "stdout",
     "output_type": "stream",
     "text": [
      "Min 10887 \n",
      "Max 12129\n"
     ]
    }
   ],
   "source": [
    "m(184,205)"
   ]
  },
  {
   "cell_type": "code",
   "execution_count": null,
   "id": "b6fc8c2f",
   "metadata": {},
   "outputs": [],
   "source": []
  }
 ],
 "metadata": {
  "kernelspec": {
   "display_name": "Python 3 (ipykernel)",
   "language": "python",
   "name": "python3"
  },
  "language_info": {
   "codemirror_mode": {
    "name": "ipython",
    "version": 3
   },
   "file_extension": ".py",
   "mimetype": "text/x-python",
   "name": "python",
   "nbconvert_exporter": "python",
   "pygments_lexer": "ipython3",
   "version": "3.9.13"
  }
 },
 "nbformat": 4,
 "nbformat_minor": 5
}
