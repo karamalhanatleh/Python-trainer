{
 "cells": [
  {
   "cell_type": "markdown",
   "id": "752bf784",
   "metadata": {},
   "source": [
    "# bject Oriented Programming"
   ]
  },
  {
   "cell_type": "code",
   "execution_count": 6,
   "id": "563e1b51",
   "metadata": {},
   "outputs": [
    {
     "name": "stdout",
     "output_type": "stream",
     "text": [
      "<class 'str'>\n",
      "<class 'int'>\n"
     ]
    }
   ],
   "source": [
    "x=1\n",
    "print(type(\"hello\"))\n",
    "print(type(x))"
   ]
  },
  {
   "cell_type": "code",
   "execution_count": 7,
   "id": "1b3324cd",
   "metadata": {},
   "outputs": [],
   "source": [
    "def hello():\n",
    "    print(\"hello\")"
   ]
  },
  {
   "cell_type": "code",
   "execution_count": 8,
   "id": "4ce03839",
   "metadata": {},
   "outputs": [
    {
     "name": "stdout",
     "output_type": "stream",
     "text": [
      "<class 'function'>\n"
     ]
    }
   ],
   "source": [
    "print(type(hello))"
   ]
  },
  {
   "cell_type": "code",
   "execution_count": 10,
   "id": "e44b6eb1",
   "metadata": {},
   "outputs": [
    {
     "ename": "TypeError",
     "evalue": "unsupported operand type(s) for +: 'int' and 'str'",
     "output_type": "error",
     "traceback": [
      "\u001b[1;31m---------------------------------------------------------------------------\u001b[0m",
      "\u001b[1;31mTypeError\u001b[0m                                 Traceback (most recent call last)",
      "\u001b[1;32m~\\AppData\\Local\\Temp\\ipykernel_16524\\434832296.py\u001b[0m in \u001b[0;36m<module>\u001b[1;34m\u001b[0m\n\u001b[0;32m      2\u001b[0m \u001b[0mx\u001b[0m\u001b[1;33m=\u001b[0m\u001b[1;36m1\u001b[0m\u001b[1;33m\u001b[0m\u001b[1;33m\u001b[0m\u001b[0m\n\u001b[0;32m      3\u001b[0m \u001b[0my\u001b[0m\u001b[1;33m=\u001b[0m\u001b[1;34m'hello'\u001b[0m\u001b[1;33m\u001b[0m\u001b[1;33m\u001b[0m\u001b[0m\n\u001b[1;32m----> 4\u001b[1;33m \u001b[0mprint\u001b[0m\u001b[1;33m(\u001b[0m\u001b[0mx\u001b[0m\u001b[1;33m+\u001b[0m\u001b[0my\u001b[0m\u001b[1;33m)\u001b[0m\u001b[1;33m\u001b[0m\u001b[1;33m\u001b[0m\u001b[0m\n\u001b[0m",
      "\u001b[1;31mTypeError\u001b[0m: unsupported operand type(s) for +: 'int' and 'str'"
     ]
    }
   ],
   "source": [
    "#Error\n",
    "x=1\n",
    "y='hello'\n",
    "print(x+y)"
   ]
  },
  {
   "cell_type": "code",
   "execution_count": 13,
   "id": "22b597ba",
   "metadata": {},
   "outputs": [
    {
     "name": "stdout",
     "output_type": "stream",
     "text": [
      "HELLO\n"
     ]
    }
   ],
   "source": [
    "s='hello'\n",
    "print(s.upper())\n"
   ]
  },
  {
   "cell_type": "code",
   "execution_count": 14,
   "id": "027805c8",
   "metadata": {},
   "outputs": [
    {
     "ename": "AttributeError",
     "evalue": "'int' object has no attribute 'upper'",
     "output_type": "error",
     "traceback": [
      "\u001b[1;31m---------------------------------------------------------------------------\u001b[0m",
      "\u001b[1;31mAttributeError\u001b[0m                            Traceback (most recent call last)",
      "\u001b[1;32m~\\AppData\\Local\\Temp\\ipykernel_16524\\3998406600.py\u001b[0m in \u001b[0;36m<module>\u001b[1;34m\u001b[0m\n\u001b[0;32m      1\u001b[0m \u001b[0mx\u001b[0m\u001b[1;33m=\u001b[0m\u001b[1;36m1\u001b[0m\u001b[1;33m\u001b[0m\u001b[1;33m\u001b[0m\u001b[0m\n\u001b[1;32m----> 2\u001b[1;33m \u001b[0mprint\u001b[0m\u001b[1;33m(\u001b[0m\u001b[0mx\u001b[0m\u001b[1;33m.\u001b[0m\u001b[0mupper\u001b[0m\u001b[1;33m(\u001b[0m\u001b[1;33m)\u001b[0m\u001b[1;33m)\u001b[0m\u001b[1;33m\u001b[0m\u001b[1;33m\u001b[0m\u001b[0m\n\u001b[0m",
      "\u001b[1;31mAttributeError\u001b[0m: 'int' object has no attribute 'upper'"
     ]
    }
   ],
   "source": [
    "x=1\n",
    "print(x.upper()) "
   ]
  },
  {
   "cell_type": "code",
   "execution_count": null,
   "id": "7bb54fdb",
   "metadata": {},
   "outputs": [],
   "source": []
  },
  {
   "cell_type": "code",
   "execution_count": 36,
   "id": "716a3c51",
   "metadata": {},
   "outputs": [],
   "source": [
    "class Dog:\n",
    "\n",
    "    def add_one(self,x):\n",
    "        return x+1\n",
    "    \n",
    "    def bark(self):\n",
    "        print(\"bark\")"
   ]
  },
  {
   "cell_type": "code",
   "execution_count": 37,
   "id": "fdf0aeb1",
   "metadata": {},
   "outputs": [
    {
     "name": "stdout",
     "output_type": "stream",
     "text": [
      "<class '__main__.Dog'>\n"
     ]
    }
   ],
   "source": [
    "d=Dog()\n",
    "print(type(d))"
   ]
  },
  {
   "cell_type": "code",
   "execution_count": 38,
   "id": "6af24a50",
   "metadata": {},
   "outputs": [
    {
     "name": "stdout",
     "output_type": "stream",
     "text": [
      "bark\n"
     ]
    }
   ],
   "source": [
    "d.bark()"
   ]
  },
  {
   "cell_type": "code",
   "execution_count": 39,
   "id": "6229f962",
   "metadata": {},
   "outputs": [
    {
     "data": {
      "text/plain": [
       "6"
      ]
     },
     "execution_count": 39,
     "metadata": {},
     "output_type": "execute_result"
    }
   ],
   "source": [
    "d.add_one(5)"
   ]
  },
  {
   "cell_type": "code",
   "execution_count": null,
   "id": "fdf1dd2a",
   "metadata": {},
   "outputs": [],
   "source": []
  },
  {
   "cell_type": "code",
   "execution_count": 51,
   "id": "65f2ce9e",
   "metadata": {},
   "outputs": [],
   "source": [
    "class Dog:\n",
    "    def __init__(self,name):\n",
    "        self.name = name\n",
    "        \n",
    "    def add_one(self,x):\n",
    "        return x+1\n",
    "    \n",
    "    def bark(self):\n",
    "        print(\"bark\")"
   ]
  },
  {
   "cell_type": "code",
   "execution_count": 52,
   "id": "3a4b9011",
   "metadata": {},
   "outputs": [],
   "source": [
    "d=Dog(\"Tim\")"
   ]
  },
  {
   "cell_type": "code",
   "execution_count": 53,
   "id": "330c24fa",
   "metadata": {},
   "outputs": [
    {
     "data": {
      "text/plain": [
       "'Tim'"
      ]
     },
     "execution_count": 53,
     "metadata": {},
     "output_type": "execute_result"
    }
   ],
   "source": [
    "d.name"
   ]
  },
  {
   "cell_type": "code",
   "execution_count": 56,
   "id": "2769bf73",
   "metadata": {},
   "outputs": [
    {
     "data": {
      "text/plain": [
       "'Bill'"
      ]
     },
     "execution_count": 56,
     "metadata": {},
     "output_type": "execute_result"
    }
   ],
   "source": [
    "d2=Dog(\"Bill\")\n",
    "d2.name"
   ]
  },
  {
   "cell_type": "code",
   "execution_count": 57,
   "id": "4e6282ec",
   "metadata": {},
   "outputs": [],
   "source": [
    "#######################################"
   ]
  },
  {
   "cell_type": "code",
   "execution_count": null,
   "id": "1a1225bf",
   "metadata": {},
   "outputs": [],
   "source": []
  },
  {
   "cell_type": "code",
   "execution_count": 70,
   "id": "74ae3398",
   "metadata": {},
   "outputs": [],
   "source": [
    "class Dog:\n",
    "    def __init__(self,name):\n",
    "        self.name = name\n",
    "        \n",
    "    def get_name(self):\n",
    "        return self.name\n",
    " "
   ]
  },
  {
   "cell_type": "code",
   "execution_count": 71,
   "id": "886d7c66",
   "metadata": {},
   "outputs": [
    {
     "data": {
      "text/plain": [
       "'Tim'"
      ]
     },
     "execution_count": 71,
     "metadata": {},
     "output_type": "execute_result"
    }
   ],
   "source": [
    "d=Dog(\"Tim\")\n",
    "d.get_name()"
   ]
  },
  {
   "cell_type": "code",
   "execution_count": 73,
   "id": "b47642c8",
   "metadata": {},
   "outputs": [
    {
     "data": {
      "text/plain": [
       "'Bill'"
      ]
     },
     "execution_count": 73,
     "metadata": {},
     "output_type": "execute_result"
    }
   ],
   "source": [
    "d2=Dog(\"Bill\")\n",
    "d2.get_name()"
   ]
  },
  {
   "cell_type": "code",
   "execution_count": 74,
   "id": "4507fe73",
   "metadata": {},
   "outputs": [],
   "source": [
    "#######################"
   ]
  },
  {
   "cell_type": "code",
   "execution_count": null,
   "id": "02a14d36",
   "metadata": {},
   "outputs": [],
   "source": []
  },
  {
   "cell_type": "code",
   "execution_count": null,
   "id": "508c4e33",
   "metadata": {},
   "outputs": [],
   "source": []
  },
  {
   "cell_type": "code",
   "execution_count": 99,
   "id": "1b9e8e25",
   "metadata": {},
   "outputs": [],
   "source": [
    "class Dog:\n",
    "    def __init__(self,name,age):\n",
    "        self.name = name\n",
    "        self.age = age\n",
    "        \n",
    "    def get_name(self):\n",
    "        return self.name\n",
    "     \n",
    "    def get_age(self):\n",
    "        return self.age\n",
    "    \n",
    "    def set_age(self  ,age):\n",
    "        self.age = age"
   ]
  },
  {
   "cell_type": "code",
   "execution_count": 101,
   "id": "8ac6cd7c",
   "metadata": {},
   "outputs": [
    {
     "name": "stdout",
     "output_type": "stream",
     "text": [
      "Tim\n",
      "23\n"
     ]
    }
   ],
   "source": [
    "d=Dog(\"Tim\",34)\n",
    "print(d.get_name())\n",
    "d.set_age(23)\n",
    "print(d.get_age())\n"
   ]
  },
  {
   "cell_type": "code",
   "execution_count": 102,
   "id": "2edf8c2b",
   "metadata": {},
   "outputs": [
    {
     "name": "stdout",
     "output_type": "stream",
     "text": [
      "Bill\n",
      "33\n"
     ]
    }
   ],
   "source": [
    "d2=Dog(\"Bill\",12)\n",
    "print(d2.get_name())\n",
    "d2.set_age(33)\n",
    "print(d2.get_age())\n"
   ]
  },
  {
   "cell_type": "code",
   "execution_count": 103,
   "id": "62a04707",
   "metadata": {},
   "outputs": [],
   "source": [
    "################################################"
   ]
  },
  {
   "cell_type": "code",
   "execution_count": 104,
   "id": "cff28f3f",
   "metadata": {},
   "outputs": [],
   "source": [
    "#################################################"
   ]
  },
  {
   "cell_type": "code",
   "execution_count": null,
   "id": "7c187715",
   "metadata": {},
   "outputs": [],
   "source": []
  },
  {
   "cell_type": "code",
   "execution_count": 129,
   "id": "e3c92fad",
   "metadata": {},
   "outputs": [],
   "source": [
    "class Student:\n",
    "    def __init__(self , name , age , grade):\n",
    "        self.name = name\n",
    "        self.age = age \n",
    "        self.grade = grade # 0 - 100 \n",
    "        \n",
    "    def get_grade(self):\n",
    "        return self.grade"
   ]
  },
  {
   "cell_type": "code",
   "execution_count": 159,
   "id": "d98cc047",
   "metadata": {},
   "outputs": [],
   "source": [
    "class Course:\n",
    "    def __init__(self , name , max_students):\n",
    "        self.name = name\n",
    "        self.max_students = max_students\n",
    "        self.students=[]\n",
    "    \n",
    "    def add_student(self , student):\n",
    "        if len(self.students)< self.max_students:\n",
    "            self.students.append(student)\n",
    "            return True\n",
    "        return False \n",
    "        \n",
    "        \n",
    "\n",
    "    def get_averge_grade(self):\n",
    "        v=0\n",
    "        for student in self.students:\n",
    "            v += student.get_grade()\n",
    "        return v / len(self.students)"
   ]
  },
  {
   "cell_type": "raw",
   "id": "40b2f122",
   "metadata": {},
   "source": []
  },
  {
   "cell_type": "code",
   "execution_count": 160,
   "id": "ff3683d2",
   "metadata": {},
   "outputs": [],
   "source": [
    "s1=Student(\"Tim\",19,95)\n",
    "s2=Student(\"Bill\",19,75)\n",
    "s3=Student(\"Jill\",19,65)"
   ]
  },
  {
   "cell_type": "code",
   "execution_count": null,
   "id": "ae9245fa",
   "metadata": {},
   "outputs": [],
   "source": []
  },
  {
   "cell_type": "code",
   "execution_count": 161,
   "id": "b7c68f74",
   "metadata": {},
   "outputs": [],
   "source": [
    "course = Course(\"Science\",2)\n"
   ]
  },
  {
   "cell_type": "code",
   "execution_count": 162,
   "id": "c8044909",
   "metadata": {},
   "outputs": [
    {
     "name": "stdout",
     "output_type": "stream",
     "text": [
      "[<__main__.Student object at 0x00000269B24A9220>, <__main__.Student object at 0x00000269B24A9130>]\n"
     ]
    }
   ],
   "source": [
    "course.add_student(s1)\n",
    "course.add_student(s2)\n",
    "print(course.students)"
   ]
  },
  {
   "cell_type": "code",
   "execution_count": 163,
   "id": "ffd04dfb",
   "metadata": {},
   "outputs": [
    {
     "name": "stdout",
     "output_type": "stream",
     "text": [
      "Tim\n"
     ]
    }
   ],
   "source": [
    "print(course.students[0].name)"
   ]
  },
  {
   "cell_type": "code",
   "execution_count": 164,
   "id": "9e6fa005",
   "metadata": {},
   "outputs": [
    {
     "name": "stdout",
     "output_type": "stream",
     "text": [
      "85.0\n"
     ]
    }
   ],
   "source": [
    "print(course.get_averge_grade())"
   ]
  },
  {
   "cell_type": "code",
   "execution_count": 165,
   "id": "23be1b7b",
   "metadata": {},
   "outputs": [
    {
     "data": {
      "text/plain": [
       "False"
      ]
     },
     "execution_count": 165,
     "metadata": {},
     "output_type": "execute_result"
    }
   ],
   "source": [
    "course.add_student(s3)"
   ]
  },
  {
   "cell_type": "code",
   "execution_count": null,
   "id": "d42b2929",
   "metadata": {},
   "outputs": [],
   "source": []
  },
  {
   "cell_type": "code",
   "execution_count": 1,
   "id": "04f705c7",
   "metadata": {},
   "outputs": [],
   "source": [
    "##############################################################"
   ]
  },
  {
   "cell_type": "code",
   "execution_count": null,
   "id": "37984e6e",
   "metadata": {},
   "outputs": [],
   "source": []
  },
  {
   "cell_type": "markdown",
   "id": "48d2c805",
   "metadata": {},
   "source": [
    "# Inhertince"
   ]
  },
  {
   "cell_type": "code",
   "execution_count": 13,
   "id": "5a3919ea",
   "metadata": {},
   "outputs": [],
   "source": [
    "class Pet:\n",
    "    def __init__(self, name , age):\n",
    "        self.name=name \n",
    "        self.age= age \n",
    "        \n",
    "    def show(self):\n",
    "        print(f\"I am {self.name} and i am {self.age} yraes old\")\n",
    "    \n",
    "    def speak(self):\n",
    "        print(\"I don't know what i say\")\n",
    "    \n",
    "    \n",
    "class Cat(Pet):\n",
    "    def speak(self):\n",
    "        print(\"meow\")\n",
    "        \n",
    "class Dog(Pet):\n",
    "    def speak(self):\n",
    "        print(\"Bark\")       \n",
    "        "
   ]
  },
  {
   "cell_type": "code",
   "execution_count": 15,
   "id": "56f1c20c",
   "metadata": {},
   "outputs": [
    {
     "name": "stdout",
     "output_type": "stream",
     "text": [
      "I am Tim and i am 19 yraes old\n"
     ]
    }
   ],
   "source": [
    "p=Pet(\"Tim\" , 19)\n",
    "p.show()"
   ]
  },
  {
   "cell_type": "code",
   "execution_count": 10,
   "id": "cef793cd",
   "metadata": {},
   "outputs": [
    {
     "name": "stdout",
     "output_type": "stream",
     "text": [
      "I am Bill and i am 34 yraes old\n",
      "meow\n"
     ]
    }
   ],
   "source": [
    "c=Cat(\"Bill\",34)\n",
    "c.show()\n",
    "c.speak()"
   ]
  },
  {
   "cell_type": "code",
   "execution_count": 11,
   "id": "60054e1c",
   "metadata": {},
   "outputs": [
    {
     "name": "stdout",
     "output_type": "stream",
     "text": [
      "I am Jil and i am 25 yraes old\n",
      "Bark\n"
     ]
    }
   ],
   "source": [
    "d=Dog(\"Jil\",25)\n",
    "d.show()\n",
    "d.speak()"
   ]
  },
  {
   "cell_type": "code",
   "execution_count": null,
   "id": "097114a8",
   "metadata": {},
   "outputs": [],
   "source": []
  },
  {
   "cell_type": "code",
   "execution_count": 16,
   "id": "5e2db9d5",
   "metadata": {},
   "outputs": [
    {
     "name": "stdout",
     "output_type": "stream",
     "text": [
      "I don't know what i say\n"
     ]
    }
   ],
   "source": [
    "p.speak()"
   ]
  },
  {
   "cell_type": "code",
   "execution_count": null,
   "id": "a53c8096",
   "metadata": {},
   "outputs": [],
   "source": []
  },
  {
   "cell_type": "code",
   "execution_count": 17,
   "id": "1d120284",
   "metadata": {},
   "outputs": [],
   "source": [
    "###########################"
   ]
  },
  {
   "cell_type": "code",
   "execution_count": null,
   "id": "e612a4f4",
   "metadata": {},
   "outputs": [],
   "source": []
  },
  {
   "cell_type": "code",
   "execution_count": 35,
   "id": "0dc01b17",
   "metadata": {},
   "outputs": [],
   "source": [
    "class Pet:\n",
    "    def __init__(self, name , age):\n",
    "        self.name=name \n",
    "        self.age= age \n",
    "        \n",
    "    def show(self):\n",
    "        print(f\"I am {self.name} and i am {self.age} yraes old\")\n",
    "    \n",
    "    def speak(self):\n",
    "        print(\"I don't know what i say\")\n",
    "    \n",
    "    \n",
    "class Cat(Pet):\n",
    "    def __init__(self  , name , age , color):\n",
    "        super().__init__(name , age)\n",
    "        self.color = color\n",
    "    \n",
    "    def speak(self):\n",
    "        print(\"meow\")\n",
    "        \n",
    "        \n",
    "    def show(self):\n",
    "        print(f\"I am {self.name} and i am {self.age} yraes old and i {self.color}\")\n",
    " \n",
    "        \n",
    "        \n",
    "class Dog(Pet):\n",
    "    def speak(self):\n",
    "        print(\"Bark\")\n"
   ]
  },
  {
   "cell_type": "code",
   "execution_count": null,
   "id": "4c078b6b",
   "metadata": {},
   "outputs": [],
   "source": []
  },
  {
   "cell_type": "code",
   "execution_count": 36,
   "id": "6f276865",
   "metadata": {},
   "outputs": [],
   "source": [
    "c=Cat('Hsy',22,  \"red\")"
   ]
  },
  {
   "cell_type": "code",
   "execution_count": 37,
   "id": "d7706b2f",
   "metadata": {},
   "outputs": [
    {
     "name": "stdout",
     "output_type": "stream",
     "text": [
      "I am Hsy and i am 22 yraes old and i red\n"
     ]
    }
   ],
   "source": [
    "c.show()"
   ]
  },
  {
   "cell_type": "code",
   "execution_count": null,
   "id": "962c4431",
   "metadata": {},
   "outputs": [],
   "source": []
  },
  {
   "cell_type": "code",
   "execution_count": 38,
   "id": "530ffd8b",
   "metadata": {},
   "outputs": [
    {
     "name": "stdout",
     "output_type": "stream",
     "text": [
      "I don't know what i say\n"
     ]
    }
   ],
   "source": [
    "p=Pet(\"Tim\",19)\n",
    "p.speak()"
   ]
  },
  {
   "cell_type": "code",
   "execution_count": 39,
   "id": "5f862931",
   "metadata": {},
   "outputs": [
    {
     "name": "stdout",
     "output_type": "stream",
     "text": [
      "I am Bill and i am 34 yraes old and i Brown\n"
     ]
    }
   ],
   "source": [
    "c=Cat(\"Bill\",34,'Brown')\n",
    "c.show()"
   ]
  },
  {
   "cell_type": "code",
   "execution_count": 40,
   "id": "d55a51f7",
   "metadata": {},
   "outputs": [],
   "source": [
    "###########################################################"
   ]
  },
  {
   "cell_type": "code",
   "execution_count": null,
   "id": "95403b06",
   "metadata": {},
   "outputs": [],
   "source": []
  },
  {
   "cell_type": "markdown",
   "id": "45a287af",
   "metadata": {},
   "source": [
    "# Class Attributes"
   ]
  },
  {
   "cell_type": "code",
   "execution_count": null,
   "id": "96358cf7",
   "metadata": {},
   "outputs": [],
   "source": []
  },
  {
   "cell_type": "code",
   "execution_count": 41,
   "id": "e6225216",
   "metadata": {},
   "outputs": [],
   "source": [
    "class Person:\n",
    "    number_of_people= 0 \n",
    "    \n",
    "    def __init__(self,name):\n",
    "        self.name = name\n"
   ]
  },
  {
   "cell_type": "code",
   "execution_count": 45,
   "id": "0fbb458b",
   "metadata": {},
   "outputs": [
    {
     "name": "stdout",
     "output_type": "stream",
     "text": [
      "tim\n",
      "jill\n"
     ]
    }
   ],
   "source": [
    "p1=Person(\"tim\")\n",
    "p2=Person(\"jill\")\n",
    "\n",
    "print(p1.name)\n",
    "print(p2.name)"
   ]
  },
  {
   "cell_type": "code",
   "execution_count": 47,
   "id": "99ca30a7",
   "metadata": {},
   "outputs": [
    {
     "name": "stdout",
     "output_type": "stream",
     "text": [
      "0\n"
     ]
    }
   ],
   "source": [
    "print(Person.number_of_people)"
   ]
  },
  {
   "cell_type": "code",
   "execution_count": null,
   "id": "6d774a27",
   "metadata": {},
   "outputs": [],
   "source": []
  },
  {
   "cell_type": "code",
   "execution_count": 49,
   "id": "26ead5e2",
   "metadata": {},
   "outputs": [
    {
     "name": "stdout",
     "output_type": "stream",
     "text": [
      "8\n"
     ]
    }
   ],
   "source": [
    "Person.number_of_people=8\n",
    "print(p2.number_of_people)"
   ]
  },
  {
   "cell_type": "code",
   "execution_count": 50,
   "id": "4374ec5d",
   "metadata": {},
   "outputs": [
    {
     "name": "stdout",
     "output_type": "stream",
     "text": [
      "9\n"
     ]
    }
   ],
   "source": [
    "Person.number_of_people=9 \n",
    "\n",
    "print(p2.number_of_people)"
   ]
  },
  {
   "cell_type": "code",
   "execution_count": null,
   "id": "73d89116",
   "metadata": {},
   "outputs": [],
   "source": [
    "\n"
   ]
  },
  {
   "cell_type": "code",
   "execution_count": null,
   "id": "b5380c04",
   "metadata": {},
   "outputs": [],
   "source": []
  },
  {
   "cell_type": "code",
   "execution_count": null,
   "id": "28584996",
   "metadata": {},
   "outputs": [],
   "source": []
  },
  {
   "cell_type": "code",
   "execution_count": 64,
   "id": "6b62450f",
   "metadata": {},
   "outputs": [],
   "source": [
    "class Person:\n",
    "    number_of_people= 0 \n",
    "    GRAVITY = -9.8\n",
    "    \n",
    "    def __init__(self,name):\n",
    "        self.name = name\n",
    "        Person.number_of_people +=1"
   ]
  },
  {
   "cell_type": "code",
   "execution_count": null,
   "id": "8c9aea6d",
   "metadata": {},
   "outputs": [],
   "source": []
  },
  {
   "cell_type": "code",
   "execution_count": 65,
   "id": "bd68396a",
   "metadata": {},
   "outputs": [
    {
     "name": "stdout",
     "output_type": "stream",
     "text": [
      "1\n"
     ]
    }
   ],
   "source": [
    "p1=Person(\"tim\")\n",
    "\n",
    "print(p1.number_of_people)"
   ]
  },
  {
   "cell_type": "code",
   "execution_count": 66,
   "id": "2c68a14f",
   "metadata": {
    "scrolled": true
   },
   "outputs": [
    {
     "name": "stdout",
     "output_type": "stream",
     "text": [
      "2\n"
     ]
    }
   ],
   "source": [
    "p2=Person(\"jill\")\n",
    "\n",
    "print(p2.number_of_people)"
   ]
  },
  {
   "cell_type": "code",
   "execution_count": null,
   "id": "4710d3e4",
   "metadata": {},
   "outputs": [],
   "source": []
  },
  {
   "cell_type": "code",
   "execution_count": null,
   "id": "dc6c7a3b",
   "metadata": {},
   "outputs": [],
   "source": [
    "What course should I start with::\n",
    "\n",
    "DeepLearning.AI TensorFlow Developer Professional Certificate\n",
    "What you'll learn\n",
    "-Best practices for TensorFlow, a popular open-source machine learning framework to train a neural network for a computer vision applications.\n",
    "-Build natural language processing systems using TensorFlow.\n",
    "-Handle real-world image data and explore strategies to prevent overfitting, including augmentation and dropout.\n",
    "-Apply RNNs, GRUs, and LSTMs as you train them using text repositories.\n",
    "\n",
    "--Professional Certificate - 4 course series\n",
    "-Introduction to TensorFlow for Artificial Intelligence, Machine Learning, and Deep Learning\n",
    "-Convolutional Neural Networks in TensorFlow\n",
    "-Natural Language Processing in TensorFlow\n",
    "-Sequences, Time Series and Prediction\n",
    "\n",
    "Or \n",
    "\n",
    "Deep Learning Specialization\n",
    "What you'll learn\n",
    "-Build and train deep neural networks, identify key architecture parameters, implement vectorized neural networks and deep learning to applications\n",
    "-Build a CNN and apply it to detection and recognition tasks, use neural style transfer to generate art, and apply algorithms to image and video data\n",
    "-Train test sets, analyze variance for DL applications, use standard techniques and optimization algorithms, and build neural networks in TensorFlow\n",
    "-Build and train RNNs, work with NLP and Word Embeddings, and use HuggingFace tokenizers and transformer models to perform NER and Question Answering\n",
    "\n",
    "\n",
    "--Specialization - 5 course series\n",
    "    1-Neural Networks and Deep Learning\n",
    "    2-Improving Deep Neural Networks: Hyperparameter Tuning, Regularization and Optimization\n",
    "    3-Structuring Machine Learning Projects\n",
    "    4-Convolutional Neural Networks\n",
    "    5-Sequence Models"
   ]
  },
  {
   "cell_type": "code",
   "execution_count": null,
   "id": "c4a3e5dd",
   "metadata": {},
   "outputs": [],
   "source": []
  },
  {
   "cell_type": "code",
   "execution_count": null,
   "id": "bf3af997",
   "metadata": {},
   "outputs": [],
   "source": []
  },
  {
   "cell_type": "code",
   "execution_count": null,
   "id": "b4bdebca",
   "metadata": {},
   "outputs": [],
   "source": [
    "Regarding the CV, what is the most important course to start with?\n",
    "\n",
    "this is cv \n",
    "\n",
    "I am studying Data Science at the University of Jordan 2020-2024 . I have strong fundamentals in data\n",
    "analysis, statistics, and machine learning, and am familiar with collecting, cleaning, and organizing data.\n",
    "During my academic studies, I worked on several data science projects and internships that allowed me to\n",
    "gain hands-on experience in data processing, data visualization, and data modeling.\n",
    "Education\n",
    "2020 – 2024 Bachelo Data science\n",
    "Skills\n",
    "Data Science\n",
    "Machine learning\n",
    "Database Management\n",
    "Data wrangling\n",
    "Spreadsheet\n",
    "Data Analysis\n",
    "Data Mining\n",
    "Data Visualization\n",
    "programming languages : Python, R,SQL ,\n",
    "php , c++\n",
    "Soft Skills\n",
    "•Adaptability\n",
    "•Time management\n",
    "•Continuous learning\n",
    "•Teamwork\n",
    "Professional Experience\n",
    "Jan 2023 – Apr 2023 Machine Learning Intern\n",
    "The Hope International\n",
    "Gained experience in various core areas of machine learning, during the\n",
    "course of the program, became proficient in using Python tools and libraries\n",
    "for medical data analysis.\n",
    "I have the ability to effectively handle, process, and visually display data,\n",
    "which enabled me to create artificial intelligence models capable of predicting\n",
    "to example the likelihood of developing diseases such as diabetes.\n",
    "•Project Diabetes Prediction\n",
    "Feb 2023 – Mar 2023 Trainee\n",
    "ProgressSoft Corporation\n",
    "•The final project was to build and train a Convolutional Neural Network\n",
    "(CNN) on the CIFAR-10 dataset which is a well-known and difficult image\n",
    "classification problem.\n",
    "•project the Logistic Regression model project to detect credit card fraud\n",
    "•project a salary predictor by using Linear Regression\n",
    "Certificates\n",
    "IBM Data Science\n",
    "Data Analyst with Python\n",
    "Introduction to Machine\n",
    "Learning and Deep\n",
    "Learning\n",
    "Machine Learning\n",
    "Data Manipulation with\n",
    "Python\n",
    "Spreadsheet\n",
    "Data Scientist with Python\n",
    "Machine Learning with\n",
    "Python\n",
    "Data Visualization with\n",
    "Python\n",
    "SQL for Data Science\n",
    "Python\n",
    "Python-Machine\n",
    "Learning-AI\n",
    "Applied Data Science\n",
    "Capstone\n",
    "Databases and SQL for\n",
    "Data Science with Python\n",
    "Python Toolbox\n",
    "PHP Development\n",
    "Projects\n",
    "Chicago Crime Prediction Using Time Series Forecasting\n",
    "A project to develop a time-series prediction model for predicting crime in the city of Chicago. By\n",
    "analyzing crime data and making use of time series forecasting techniques, we aim to create a predictive\n",
    "model that can provide a prediction of future crime occurrences before they occur in different areas of the\n",
    "city.\n",
    "Project to predict the ability of the debtor to repay\n",
    "The goal of this project is to develop a machine learning model that can predict the ability of a debtor to\n",
    "repay their debts. By analyzing historical financial and credit data, we aim to build a predictive model that\n",
    "can assess the creditworthiness of debtors and provide insights into their repayment capabilities.\n",
    "Project: How many bicycles will be rented during the next month\n",
    "develop a predictive model that can estimate the number of bicycles that will be rented during the next\n",
    "month\n",
    "Project Predict classification Diabetes\n",
    "A classification model to predict the incidence of diabetes through medical signs and aims at early\n",
    "detection of diabetes\n",
    "Languages\n",
    "Arabic English\n",
    "\n",
    "\n",
    "\n",
    "-\n",
    "Deep Learning Specialization\n",
    "What you'll learn\n",
    "-Build and train deep neural networks, identify key architecture parameters, implement vectorized neural networks and deep learning to applications\n",
    "-Build a CNN and apply it to detection and recognition tasks, use neural style transfer to generate art, and apply algorithms to image and video data\n",
    "-Train test sets, analyze variance for DL applications, use standard techniques and optimization algorithms, and build neural networks in TensorFlow\n",
    "-Build and train RNNs, work with NLP and Word Embeddings, and use HuggingFace tokenizers and transformer models to perform NER and Question Answering\n",
    "\n",
    "\n",
    "--Specialization - 5 course series\n",
    "    1-Neural Networks and Deep Learning\n",
    "    2-Improving Deep Neural Networks: Hyperparameter Tuning, Regularization and Optimization\n",
    "    3-Structuring Machine Learning Projects\n",
    "    4-Convolutional Neural Networks\n",
    "    5-Sequence Models\n",
    "    \n",
    "or\n",
    "\n",
    "DeepLearning.AI TensorFlow Developer Professional Certificate\n",
    "What you'll learn\n",
    "-Best practices for TensorFlow, a popular open-source machine learning framework to train a neural network for a computer vision applications.\n",
    "-Build natural language processing systems using TensorFlow.\n",
    "-Handle real-world image data and explore strategies to prevent overfitting, including augmentation and dropout.\n",
    "-Apply RNNs, GRUs, and LSTMs as you train them using text repositories.\n",
    "\n",
    "\n",
    "\n",
    "--Professional Certificate - 4 course series\n",
    "-Introduction to TensorFlow for Artificial Intelligence, Machine Learning, and Deep Learning\n",
    "-Convolutional Neural Networks in TensorFlow\n",
    "-Natural Language Processing in TensorFlow\n",
    "-Sequences, Time Series and Prediction"
   ]
  },
  {
   "cell_type": "code",
   "execution_count": null,
   "id": "4fd4e4e6",
   "metadata": {},
   "outputs": [],
   "source": []
  },
  {
   "cell_type": "code",
   "execution_count": 61,
   "id": "0ce15692",
   "metadata": {},
   "outputs": [],
   "source": []
  },
  {
   "cell_type": "code",
   "execution_count": null,
   "id": "dd48e71c",
   "metadata": {},
   "outputs": [],
   "source": [
    "DeepLearning.AI TensorFlow Developer Professional Certificate\n",
    "What you'll learn\n",
    "-Best practices for TensorFlow, a popular open-source machine learning framework to train a neural network for a computer vision applications.\n",
    "-Build natural language processing systems using TensorFlow.\n",
    "-Handle real-world image data and explore strategies to prevent overfitting, including augmentation and dropout.\n",
    "-Apply RNNs, GRUs, and LSTMs as you train them using text repositories.\n",
    "\n",
    "\n",
    "\n",
    "--Professional Certificate - 4 course series\n",
    "-Introduction to TensorFlow for Artificial Intelligence, Machine Learning, and Deep Learning\n",
    "-Convolutional Neural Networks in TensorFlow\n",
    "-Natural Language Processing in TensorFlow\n",
    "-Sequences, Time Series and Prediction"
   ]
  },
  {
   "cell_type": "code",
   "execution_count": null,
   "id": "2c21715f",
   "metadata": {},
   "outputs": [],
   "source": []
  },
  {
   "cell_type": "code",
   "execution_count": null,
   "id": "206fa6c0",
   "metadata": {},
   "outputs": [],
   "source": []
  }
 ],
 "metadata": {
  "kernelspec": {
   "display_name": "Python 3 (ipykernel)",
   "language": "python",
   "name": "python3"
  },
  "language_info": {
   "codemirror_mode": {
    "name": "ipython",
    "version": 3
   },
   "file_extension": ".py",
   "mimetype": "text/x-python",
   "name": "python",
   "nbconvert_exporter": "python",
   "pygments_lexer": "ipython3",
   "version": "3.9.13"
  }
 },
 "nbformat": 4,
 "nbformat_minor": 5
}
