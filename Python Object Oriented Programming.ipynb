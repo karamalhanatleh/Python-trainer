{
 "cells": [
  {
   "cell_type": "markdown",
   "id": "752bf784",
   "metadata": {},
   "source": [
    "# bject Oriented Programming"
   ]
  },
  {
   "cell_type": "code",
   "execution_count": 6,
   "id": "563e1b51",
   "metadata": {},
   "outputs": [
    {
     "name": "stdout",
     "output_type": "stream",
     "text": [
      "<class 'str'>\n",
      "<class 'int'>\n"
     ]
    }
   ],
   "source": [
    "x=1\n",
    "print(type(\"hello\"))\n",
    "print(type(x))"
   ]
  },
  {
   "cell_type": "code",
   "execution_count": 7,
   "id": "1b3324cd",
   "metadata": {},
   "outputs": [],
   "source": [
    "def hello():\n",
    "    print(\"hello\")"
   ]
  },
  {
   "cell_type": "code",
   "execution_count": 8,
   "id": "4ce03839",
   "metadata": {},
   "outputs": [
    {
     "name": "stdout",
     "output_type": "stream",
     "text": [
      "<class 'function'>\n"
     ]
    }
   ],
   "source": [
    "print(type(hello))"
   ]
  },
  {
   "cell_type": "code",
   "execution_count": 10,
   "id": "e44b6eb1",
   "metadata": {},
   "outputs": [
    {
     "ename": "TypeError",
     "evalue": "unsupported operand type(s) for +: 'int' and 'str'",
     "output_type": "error",
     "traceback": [
      "\u001b[1;31m---------------------------------------------------------------------------\u001b[0m",
      "\u001b[1;31mTypeError\u001b[0m                                 Traceback (most recent call last)",
      "\u001b[1;32m~\\AppData\\Local\\Temp\\ipykernel_16524\\434832296.py\u001b[0m in \u001b[0;36m<module>\u001b[1;34m\u001b[0m\n\u001b[0;32m      2\u001b[0m \u001b[0mx\u001b[0m\u001b[1;33m=\u001b[0m\u001b[1;36m1\u001b[0m\u001b[1;33m\u001b[0m\u001b[1;33m\u001b[0m\u001b[0m\n\u001b[0;32m      3\u001b[0m \u001b[0my\u001b[0m\u001b[1;33m=\u001b[0m\u001b[1;34m'hello'\u001b[0m\u001b[1;33m\u001b[0m\u001b[1;33m\u001b[0m\u001b[0m\n\u001b[1;32m----> 4\u001b[1;33m \u001b[0mprint\u001b[0m\u001b[1;33m(\u001b[0m\u001b[0mx\u001b[0m\u001b[1;33m+\u001b[0m\u001b[0my\u001b[0m\u001b[1;33m)\u001b[0m\u001b[1;33m\u001b[0m\u001b[1;33m\u001b[0m\u001b[0m\n\u001b[0m",
      "\u001b[1;31mTypeError\u001b[0m: unsupported operand type(s) for +: 'int' and 'str'"
     ]
    }
   ],
   "source": [
    "#Error\n",
    "x=1\n",
    "y='hello'\n",
    "print(x+y)"
   ]
  },
  {
   "cell_type": "code",
   "execution_count": 13,
   "id": "22b597ba",
   "metadata": {},
   "outputs": [
    {
     "name": "stdout",
     "output_type": "stream",
     "text": [
      "HELLO\n"
     ]
    }
   ],
   "source": [
    "s='hello'\n",
    "print(s.upper())\n"
   ]
  },
  {
   "cell_type": "code",
   "execution_count": 14,
   "id": "027805c8",
   "metadata": {},
   "outputs": [
    {
     "ename": "AttributeError",
     "evalue": "'int' object has no attribute 'upper'",
     "output_type": "error",
     "traceback": [
      "\u001b[1;31m---------------------------------------------------------------------------\u001b[0m",
      "\u001b[1;31mAttributeError\u001b[0m                            Traceback (most recent call last)",
      "\u001b[1;32m~\\AppData\\Local\\Temp\\ipykernel_16524\\3998406600.py\u001b[0m in \u001b[0;36m<module>\u001b[1;34m\u001b[0m\n\u001b[0;32m      1\u001b[0m \u001b[0mx\u001b[0m\u001b[1;33m=\u001b[0m\u001b[1;36m1\u001b[0m\u001b[1;33m\u001b[0m\u001b[1;33m\u001b[0m\u001b[0m\n\u001b[1;32m----> 2\u001b[1;33m \u001b[0mprint\u001b[0m\u001b[1;33m(\u001b[0m\u001b[0mx\u001b[0m\u001b[1;33m.\u001b[0m\u001b[0mupper\u001b[0m\u001b[1;33m(\u001b[0m\u001b[1;33m)\u001b[0m\u001b[1;33m)\u001b[0m\u001b[1;33m\u001b[0m\u001b[1;33m\u001b[0m\u001b[0m\n\u001b[0m",
      "\u001b[1;31mAttributeError\u001b[0m: 'int' object has no attribute 'upper'"
     ]
    }
   ],
   "source": [
    "x=1\n",
    "print(x.upper()) "
   ]
  },
  {
   "cell_type": "code",
   "execution_count": null,
   "id": "7bb54fdb",
   "metadata": {},
   "outputs": [],
   "source": []
  },
  {
   "cell_type": "code",
   "execution_count": 36,
   "id": "716a3c51",
   "metadata": {},
   "outputs": [],
   "source": [
    "class Dog:\n",
    "\n",
    "    def add_one(self,x):\n",
    "        return x+1\n",
    "    \n",
    "    def bark(self):\n",
    "        print(\"bark\")"
   ]
  },
  {
   "cell_type": "code",
   "execution_count": 37,
   "id": "fdf0aeb1",
   "metadata": {},
   "outputs": [
    {
     "name": "stdout",
     "output_type": "stream",
     "text": [
      "<class '__main__.Dog'>\n"
     ]
    }
   ],
   "source": [
    "d=Dog()\n",
    "print(type(d))"
   ]
  },
  {
   "cell_type": "code",
   "execution_count": 38,
   "id": "6af24a50",
   "metadata": {},
   "outputs": [
    {
     "name": "stdout",
     "output_type": "stream",
     "text": [
      "bark\n"
     ]
    }
   ],
   "source": [
    "d.bark()"
   ]
  },
  {
   "cell_type": "code",
   "execution_count": 39,
   "id": "6229f962",
   "metadata": {},
   "outputs": [
    {
     "data": {
      "text/plain": [
       "6"
      ]
     },
     "execution_count": 39,
     "metadata": {},
     "output_type": "execute_result"
    }
   ],
   "source": [
    "d.add_one(5)"
   ]
  },
  {
   "cell_type": "code",
   "execution_count": null,
   "id": "fdf1dd2a",
   "metadata": {},
   "outputs": [],
   "source": []
  },
  {
   "cell_type": "code",
   "execution_count": 51,
   "id": "65f2ce9e",
   "metadata": {},
   "outputs": [],
   "source": [
    "class Dog:\n",
    "    def __init__(self,name):\n",
    "        self.name = name\n",
    "        \n",
    "    def add_one(self,x):\n",
    "        return x+1\n",
    "    \n",
    "    def bark(self):\n",
    "        print(\"bark\")"
   ]
  },
  {
   "cell_type": "code",
   "execution_count": 52,
   "id": "3a4b9011",
   "metadata": {},
   "outputs": [],
   "source": [
    "d=Dog(\"Tim\")"
   ]
  },
  {
   "cell_type": "code",
   "execution_count": 53,
   "id": "330c24fa",
   "metadata": {},
   "outputs": [
    {
     "data": {
      "text/plain": [
       "'Tim'"
      ]
     },
     "execution_count": 53,
     "metadata": {},
     "output_type": "execute_result"
    }
   ],
   "source": [
    "d.name"
   ]
  },
  {
   "cell_type": "code",
   "execution_count": 56,
   "id": "2769bf73",
   "metadata": {},
   "outputs": [
    {
     "data": {
      "text/plain": [
       "'Bill'"
      ]
     },
     "execution_count": 56,
     "metadata": {},
     "output_type": "execute_result"
    }
   ],
   "source": [
    "d2=Dog(\"Bill\")\n",
    "d2.name"
   ]
  },
  {
   "cell_type": "code",
   "execution_count": 57,
   "id": "4e6282ec",
   "metadata": {},
   "outputs": [],
   "source": [
    "#######################################"
   ]
  },
  {
   "cell_type": "code",
   "execution_count": null,
   "id": "1a1225bf",
   "metadata": {},
   "outputs": [],
   "source": []
  },
  {
   "cell_type": "code",
   "execution_count": 70,
   "id": "74ae3398",
   "metadata": {},
   "outputs": [],
   "source": [
    "class Dog:\n",
    "    def __init__(self,name):\n",
    "        self.name = name\n",
    "        \n",
    "    def get_name(self):\n",
    "        return self.name\n",
    " "
   ]
  },
  {
   "cell_type": "code",
   "execution_count": 71,
   "id": "886d7c66",
   "metadata": {},
   "outputs": [
    {
     "data": {
      "text/plain": [
       "'Tim'"
      ]
     },
     "execution_count": 71,
     "metadata": {},
     "output_type": "execute_result"
    }
   ],
   "source": [
    "d=Dog(\"Tim\")\n",
    "d.get_name()"
   ]
  },
  {
   "cell_type": "code",
   "execution_count": 73,
   "id": "b47642c8",
   "metadata": {},
   "outputs": [
    {
     "data": {
      "text/plain": [
       "'Bill'"
      ]
     },
     "execution_count": 73,
     "metadata": {},
     "output_type": "execute_result"
    }
   ],
   "source": [
    "d2=Dog(\"Bill\")\n",
    "d2.get_name()"
   ]
  },
  {
   "cell_type": "code",
   "execution_count": 74,
   "id": "4507fe73",
   "metadata": {},
   "outputs": [],
   "source": [
    "#######################"
   ]
  },
  {
   "cell_type": "code",
   "execution_count": null,
   "id": "02a14d36",
   "metadata": {},
   "outputs": [],
   "source": []
  },
  {
   "cell_type": "code",
   "execution_count": null,
   "id": "508c4e33",
   "metadata": {},
   "outputs": [],
   "source": []
  },
  {
   "cell_type": "code",
   "execution_count": 99,
   "id": "1b9e8e25",
   "metadata": {},
   "outputs": [],
   "source": [
    "class Dog:\n",
    "    def __init__(self,name,age):\n",
    "        self.name = name\n",
    "        self.age = age\n",
    "        \n",
    "    def get_name(self):\n",
    "        return self.name\n",
    "     \n",
    "    def get_age(self):\n",
    "        return self.age\n",
    "    \n",
    "    def set_age(self  ,age):\n",
    "        self.age = age"
   ]
  },
  {
   "cell_type": "code",
   "execution_count": 101,
   "id": "8ac6cd7c",
   "metadata": {},
   "outputs": [
    {
     "name": "stdout",
     "output_type": "stream",
     "text": [
      "Tim\n",
      "23\n"
     ]
    }
   ],
   "source": [
    "d=Dog(\"Tim\",34)\n",
    "print(d.get_name())\n",
    "d.set_age(23)\n",
    "print(d.get_age())\n"
   ]
  },
  {
   "cell_type": "code",
   "execution_count": 102,
   "id": "2edf8c2b",
   "metadata": {},
   "outputs": [
    {
     "name": "stdout",
     "output_type": "stream",
     "text": [
      "Bill\n",
      "33\n"
     ]
    }
   ],
   "source": [
    "d2=Dog(\"Bill\",12)\n",
    "print(d2.get_name())\n",
    "d2.set_age(33)\n",
    "print(d2.get_age())\n"
   ]
  },
  {
   "cell_type": "code",
   "execution_count": 103,
   "id": "62a04707",
   "metadata": {},
   "outputs": [],
   "source": [
    "################################################"
   ]
  },
  {
   "cell_type": "code",
   "execution_count": 104,
   "id": "cff28f3f",
   "metadata": {},
   "outputs": [],
   "source": [
    "#################################################"
   ]
  },
  {
   "cell_type": "code",
   "execution_count": null,
   "id": "7c187715",
   "metadata": {},
   "outputs": [],
   "source": []
  },
  {
   "cell_type": "code",
   "execution_count": 129,
   "id": "e3c92fad",
   "metadata": {},
   "outputs": [],
   "source": [
    "class Student:\n",
    "    def __init__(self , name , age , grade):\n",
    "        self.name = name\n",
    "        self.age = age \n",
    "        self.grade = grade # 0 - 100 \n",
    "        \n",
    "    def get_grade(self):\n",
    "        return self.grade"
   ]
  },
  {
   "cell_type": "code",
   "execution_count": 159,
   "id": "d98cc047",
   "metadata": {},
   "outputs": [],
   "source": [
    "class Course:\n",
    "    def __init__(self , name , max_students):\n",
    "        self.name = name\n",
    "        self.max_students = max_students\n",
    "        self.students=[]\n",
    "    \n",
    "    def add_student(self , student):\n",
    "        if len(self.students)< self.max_students:\n",
    "            self.students.append(student)\n",
    "            return True\n",
    "        return False \n",
    "        \n",
    "        \n",
    "\n",
    "    def get_averge_grade(self):\n",
    "        v=0\n",
    "        for student in self.students:\n",
    "            v += student.get_grade()\n",
    "        return v / len(self.students)"
   ]
  },
  {
   "cell_type": "raw",
   "id": "40b2f122",
   "metadata": {},
   "source": []
  },
  {
   "cell_type": "code",
   "execution_count": 160,
   "id": "ff3683d2",
   "metadata": {},
   "outputs": [],
   "source": [
    "s1=Student(\"Tim\",19,95)\n",
    "s2=Student(\"Bill\",19,75)\n",
    "s3=Student(\"Jill\",19,65)"
   ]
  },
  {
   "cell_type": "code",
   "execution_count": null,
   "id": "ae9245fa",
   "metadata": {},
   "outputs": [],
   "source": []
  },
  {
   "cell_type": "code",
   "execution_count": 161,
   "id": "b7c68f74",
   "metadata": {},
   "outputs": [],
   "source": [
    "course = Course(\"Science\",2)\n"
   ]
  },
  {
   "cell_type": "code",
   "execution_count": 162,
   "id": "c8044909",
   "metadata": {},
   "outputs": [
    {
     "name": "stdout",
     "output_type": "stream",
     "text": [
      "[<__main__.Student object at 0x00000269B24A9220>, <__main__.Student object at 0x00000269B24A9130>]\n"
     ]
    }
   ],
   "source": [
    "course.add_student(s1)\n",
    "course.add_student(s2)\n",
    "print(course.students)"
   ]
  },
  {
   "cell_type": "code",
   "execution_count": 163,
   "id": "ffd04dfb",
   "metadata": {},
   "outputs": [
    {
     "name": "stdout",
     "output_type": "stream",
     "text": [
      "Tim\n"
     ]
    }
   ],
   "source": [
    "print(course.students[0].name)"
   ]
  },
  {
   "cell_type": "code",
   "execution_count": 164,
   "id": "9e6fa005",
   "metadata": {},
   "outputs": [
    {
     "name": "stdout",
     "output_type": "stream",
     "text": [
      "85.0\n"
     ]
    }
   ],
   "source": [
    "print(course.get_averge_grade())"
   ]
  },
  {
   "cell_type": "code",
   "execution_count": 165,
   "id": "23be1b7b",
   "metadata": {},
   "outputs": [
    {
     "data": {
      "text/plain": [
       "False"
      ]
     },
     "execution_count": 165,
     "metadata": {},
     "output_type": "execute_result"
    }
   ],
   "source": [
    "course.add_student(s3)"
   ]
  },
  {
   "cell_type": "code",
   "execution_count": null,
   "id": "d3d177fb",
   "metadata": {},
   "outputs": [],
   "source": []
  },
  {
   "cell_type": "code",
   "execution_count": 1,
   "id": "04f705c7",
   "metadata": {},
   "outputs": [],
   "source": [
    "##############################################################"
   ]
  },
  {
   "cell_type": "code",
   "execution_count": null,
   "id": "0bf65a49",
   "metadata": {},
   "outputs": [],
   "source": []
  },
  {
   "cell_type": "markdown",
   "id": "eabe4178",
   "metadata": {},
   "source": [
    "# Inhertince"
   ]
  },
  {
   "cell_type": "code",
   "execution_count": 13,
   "id": "c7f5c07c",
   "metadata": {},
   "outputs": [],
   "source": [
    "class Pet:\n",
    "    def __init__(self, name , age):\n",
    "        self.name=name \n",
    "        self.age= age \n",
    "        \n",
    "    def show(self):\n",
    "        print(f\"I am {self.name} and i am {self.age} yraes old\")\n",
    "    \n",
    "    def speak(self):\n",
    "        print(\"I don't know what i say\")\n",
    "    \n",
    "    \n",
    "class Cat(Pet):\n",
    "    def speak(self):\n",
    "        print(\"meow\")\n",
    "        \n",
    "class Dog(Pet):\n",
    "    def speak(self):\n",
    "        print(\"Bark\")       \n",
    "        "
   ]
  },
  {
   "cell_type": "code",
   "execution_count": 15,
   "id": "9a1a2a72",
   "metadata": {},
   "outputs": [
    {
     "name": "stdout",
     "output_type": "stream",
     "text": [
      "I am Tim and i am 19 yraes old\n"
     ]
    }
   ],
   "source": [
    "p=Pet(\"Tim\" , 19)\n",
    "p.show()"
   ]
  },
  {
   "cell_type": "code",
   "execution_count": 10,
   "id": "ea3ffaff",
   "metadata": {},
   "outputs": [
    {
     "name": "stdout",
     "output_type": "stream",
     "text": [
      "I am Bill and i am 34 yraes old\n",
      "meow\n"
     ]
    }
   ],
   "source": [
    "c=Cat(\"Bill\",34)\n",
    "c.show()\n",
    "c.speak()"
   ]
  },
  {
   "cell_type": "code",
   "execution_count": 11,
   "id": "9d478f93",
   "metadata": {},
   "outputs": [
    {
     "name": "stdout",
     "output_type": "stream",
     "text": [
      "I am Jil and i am 25 yraes old\n",
      "Bark\n"
     ]
    }
   ],
   "source": [
    "d=Dog(\"Jil\",25)\n",
    "d.show()\n",
    "d.speak()"
   ]
  },
  {
   "cell_type": "code",
   "execution_count": null,
   "id": "630e1d6a",
   "metadata": {},
   "outputs": [],
   "source": []
  },
  {
   "cell_type": "code",
   "execution_count": 16,
   "id": "58156027",
   "metadata": {},
   "outputs": [
    {
     "name": "stdout",
     "output_type": "stream",
     "text": [
      "I don't know what i say\n"
     ]
    }
   ],
   "source": [
    "p.speak()"
   ]
  },
  {
   "cell_type": "code",
   "execution_count": null,
   "id": "25d79ea2",
   "metadata": {},
   "outputs": [],
   "source": []
  },
  {
   "cell_type": "code",
   "execution_count": 17,
   "id": "c4b5c0dd",
   "metadata": {},
   "outputs": [],
   "source": [
    "###########################"
   ]
  },
  {
   "cell_type": "code",
   "execution_count": null,
   "id": "cb052c70",
   "metadata": {},
   "outputs": [],
   "source": []
  },
  {
   "cell_type": "code",
   "execution_count": 35,
   "id": "4c379e46",
   "metadata": {},
   "outputs": [],
   "source": [
    "class Pet:\n",
    "    def __init__(self, name , age):\n",
    "        self.name=name \n",
    "        self.age= age \n",
    "        \n",
    "    def show(self):\n",
    "        print(f\"I am {self.name} and i am {self.age} yraes old\")\n",
    "    \n",
    "    def speak(self):\n",
    "        print(\"I don't know what i say\")\n",
    "    \n",
    "    \n",
    "class Cat(Pet):\n",
    "    def __init__(self  , name , age , color):\n",
    "        super().__init__(name , age)\n",
    "        self.color = color\n",
    "    \n",
    "    def speak(self):\n",
    "        print(\"meow\")\n",
    "        \n",
    "        \n",
    "    def show(self):\n",
    "        print(f\"I am {self.name} and i am {self.age} yraes old and i {self.color}\")\n",
    " \n",
    "        \n",
    "        \n",
    "class Dog(Pet):\n",
    "    def speak(self):\n",
    "        print(\"Bark\")\n"
   ]
  },
  {
   "cell_type": "code",
   "execution_count": null,
   "id": "acea1c1c",
   "metadata": {},
   "outputs": [],
   "source": []
  },
  {
   "cell_type": "code",
   "execution_count": 36,
   "id": "891bf2e4",
   "metadata": {},
   "outputs": [],
   "source": [
    "c=Cat('Hsy',22,  \"red\")"
   ]
  },
  {
   "cell_type": "code",
   "execution_count": 37,
   "id": "5c8e51c4",
   "metadata": {},
   "outputs": [
    {
     "name": "stdout",
     "output_type": "stream",
     "text": [
      "I am Hsy and i am 22 yraes old and i red\n"
     ]
    }
   ],
   "source": [
    "c.show()"
   ]
  },
  {
   "cell_type": "code",
   "execution_count": null,
   "id": "0e7fa677",
   "metadata": {},
   "outputs": [],
   "source": []
  },
  {
   "cell_type": "code",
   "execution_count": 38,
   "id": "a25ea58b",
   "metadata": {},
   "outputs": [
    {
     "name": "stdout",
     "output_type": "stream",
     "text": [
      "I don't know what i say\n"
     ]
    }
   ],
   "source": [
    "p=Pet(\"Tim\",19)\n",
    "p.speak()"
   ]
  },
  {
   "cell_type": "code",
   "execution_count": 39,
   "id": "74f06c93",
   "metadata": {},
   "outputs": [
    {
     "name": "stdout",
     "output_type": "stream",
     "text": [
      "I am Bill and i am 34 yraes old and i Brown\n"
     ]
    }
   ],
   "source": [
    "c=Cat(\"Bill\",34,'Brown')\n",
    "c.show()"
   ]
  },
  {
   "cell_type": "code",
   "execution_count": 40,
   "id": "720c1c21",
   "metadata": {},
   "outputs": [],
   "source": [
    "###########################################################"
   ]
  },
  {
   "cell_type": "code",
   "execution_count": null,
   "id": "535f33d4",
   "metadata": {},
   "outputs": [],
   "source": []
  },
  {
   "cell_type": "markdown",
   "id": "147abfd8",
   "metadata": {},
   "source": [
    "# Class Attributes"
   ]
  },
  {
   "cell_type": "code",
   "execution_count": null,
   "id": "c4614bb0",
   "metadata": {},
   "outputs": [],
   "source": []
  },
  {
   "cell_type": "code",
   "execution_count": 41,
   "id": "f58053ce",
   "metadata": {},
   "outputs": [],
   "source": [
    "class Person:\n",
    "    number_of_people= 0 \n",
    "    \n",
    "    def __init__(self,name):\n",
    "        self.name = name\n"
   ]
  },
  {
   "cell_type": "code",
   "execution_count": 45,
   "id": "57b6f7ab",
   "metadata": {},
   "outputs": [
    {
     "name": "stdout",
     "output_type": "stream",
     "text": [
      "tim\n",
      "jill\n"
     ]
    }
   ],
   "source": [
    "p1=Person(\"tim\")\n",
    "p2=Person(\"jill\")\n",
    "\n",
    "print(p1.name)\n",
    "print(p2.name)"
   ]
  },
  {
   "cell_type": "code",
   "execution_count": 47,
   "id": "a8cc3f94",
   "metadata": {},
   "outputs": [
    {
     "name": "stdout",
     "output_type": "stream",
     "text": [
      "0\n"
     ]
    }
   ],
   "source": [
    "print(Person.number_of_people)"
   ]
  },
  {
   "cell_type": "code",
   "execution_count": null,
   "id": "ae5e8d4e",
   "metadata": {},
   "outputs": [],
   "source": []
  },
  {
   "cell_type": "code",
   "execution_count": 49,
   "id": "1d8a7b10",
   "metadata": {},
   "outputs": [
    {
     "name": "stdout",
     "output_type": "stream",
     "text": [
      "8\n"
     ]
    }
   ],
   "source": [
    "Person.number_of_people=8\n",
    "print(p2.number_of_people)"
   ]
  },
  {
   "cell_type": "code",
   "execution_count": 50,
   "id": "a33092a6",
   "metadata": {},
   "outputs": [
    {
     "name": "stdout",
     "output_type": "stream",
     "text": [
      "9\n"
     ]
    }
   ],
   "source": [
    "Person.number_of_people=9 \n",
    "\n",
    "print(p2.number_of_people)"
   ]
  },
  {
   "cell_type": "code",
   "execution_count": null,
   "id": "0478e745",
   "metadata": {},
   "outputs": [],
   "source": [
    "\n"
   ]
  },
  {
   "cell_type": "code",
   "execution_count": null,
   "id": "1f0382a1",
   "metadata": {},
   "outputs": [],
   "source": []
  },
  {
   "cell_type": "code",
   "execution_count": null,
   "id": "f0219490",
   "metadata": {},
   "outputs": [],
   "source": []
  },
  {
   "cell_type": "code",
   "execution_count": 64,
   "id": "64a0ee06",
   "metadata": {},
   "outputs": [],
   "source": [
    "class Person:\n",
    "    number_of_people= 0 \n",
    "    GRAVITY = -9.8\n",
    "    \n",
    "    def __init__(self,name):\n",
    "        self.name = name\n",
    "        Person.number_of_people +=1"
   ]
  },
  {
   "cell_type": "code",
   "execution_count": null,
   "id": "8de343db",
   "metadata": {},
   "outputs": [],
   "source": []
  },
  {
   "cell_type": "code",
   "execution_count": 65,
   "id": "a30a2d1d",
   "metadata": {},
   "outputs": [
    {
     "name": "stdout",
     "output_type": "stream",
     "text": [
      "1\n"
     ]
    }
   ],
   "source": [
    "p1=Person(\"tim\")\n",
    "\n",
    "print(p1.number_of_people)"
   ]
  },
  {
   "cell_type": "code",
   "execution_count": 66,
   "id": "3b997e6b",
   "metadata": {
    "scrolled": true
   },
   "outputs": [
    {
     "name": "stdout",
     "output_type": "stream",
     "text": [
      "2\n"
     ]
    }
   ],
   "source": [
    "p2=Person(\"jill\")\n",
    "\n",
    "print(p2.number_of_people)"
   ]
  },
  {
   "cell_type": "code",
   "execution_count": null,
   "id": "803efbf6",
   "metadata": {},
   "outputs": [],
   "source": []
  },
  {
   "cell_type": "code",
   "execution_count": 61,
   "id": "3f200106",
   "metadata": {},
   "outputs": [],
   "source": []
  },
  {
   "cell_type": "code",
   "execution_count": null,
   "id": "e3740413",
   "metadata": {},
   "outputs": [],
   "source": []
  },
  {
   "cell_type": "code",
   "execution_count": null,
   "id": "ad660b35",
   "metadata": {},
   "outputs": [],
   "source": []
  }
 ],
 "metadata": {
  "kernelspec": {
   "display_name": "Python 3 (ipykernel)",
   "language": "python",
   "name": "python3"
  },
  "language_info": {
   "codemirror_mode": {
    "name": "ipython",
    "version": 3
   },
   "file_extension": ".py",
   "mimetype": "text/x-python",
   "name": "python",
   "nbconvert_exporter": "python",
   "pygments_lexer": "ipython3",
   "version": "3.9.13"
  }
 },
 "nbformat": 4,
 "nbformat_minor": 5
}
