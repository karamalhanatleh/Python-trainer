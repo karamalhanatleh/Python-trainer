{
 "cells": [
  {
   "cell_type": "code",
   "execution_count": 40,
   "id": "16bcef41",
   "metadata": {},
   "outputs": [],
   "source": [
    "import numpy as np"
   ]
  },
  {
   "cell_type": "code",
   "execution_count": 41,
   "id": "8321d86f",
   "metadata": {},
   "outputs": [],
   "source": [
    "c1=[2.6 ,8 , 3.6]\n",
    "c2=[6.5 , 6 , 7]\n",
    "c3=[2.6 , 3.6 , 1.3]"
   ]
  },
  {
   "cell_type": "code",
   "execution_count": 57,
   "id": "31a395c2",
   "metadata": {},
   "outputs": [],
   "source": [
    "a=[2,10,4]\n",
    "b=[2,5,5]\n",
    "c=[8,4,6]\n",
    "d=[5,8,8]\n",
    "e=[7,5,1]\n",
    "f=[6,4,2]\n",
    "g=[1,2,1]\n",
    "h=[4,9,2]"
   ]
  },
  {
   "cell_type": "code",
   "execution_count": 58,
   "id": "0e8a5984",
   "metadata": {},
   "outputs": [],
   "source": [
    "point=np.array([a,b,c,d,e,f,g,h])\n",
    "point_lis=[a,b,c,d,e,f,g,h]"
   ]
  },
  {
   "cell_type": "code",
   "execution_count": 74,
   "id": "416f4ee3",
   "metadata": {
    "collapsed": true
   },
   "outputs": [
    {
     "name": "stdout",
     "output_type": "stream",
     "text": [
      "2\n",
      "10\n",
      "4\n",
      "= : 3.0\n",
      "      \n",
      "      \n",
      "2\n",
      "5\n",
      "5\n",
      "= : 5.0\n",
      "      \n",
      "      \n",
      "8\n",
      "4\n",
      "6\n",
      "= : 11.8\n",
      "      \n",
      "      \n",
      "5\n",
      "8\n",
      "8\n",
      "= : 6.800000000000001\n",
      "      \n",
      "      \n",
      "7\n",
      "5\n",
      "1\n",
      "= : 10.0\n",
      "      \n",
      "      \n",
      "6\n",
      "4\n",
      "2\n",
      "= : 9.0\n",
      "      \n",
      "      \n",
      "1\n",
      "2\n",
      "1\n",
      "= : 10.2\n",
      "      \n",
      "      \n",
      "4\n",
      "9\n",
      "2\n",
      "= : 4.0\n",
      "      \n",
      "      \n"
     ]
    }
   ],
   "source": [
    "for i in point_lis:\n",
    " #   ss=sum(abs(i[0]-2.6 )+abs(i[1]-8)+abs(i[2]-3.6))\n",
    "    print(i[0])\n",
    "    print(i[1])\n",
    "    print(i[2])\n",
    "    print(\"= :\",abs(i[0]-2.6 )+abs(i[1]-8)+abs(i[2]-3.6))\n",
    "    print(\"      \")\n",
    "    print(\"      \")"
   ]
  },
  {
   "cell_type": "code",
   "execution_count": 75,
   "id": "ad533ae7",
   "metadata": {
    "collapsed": true
   },
   "outputs": [
    {
     "name": "stdout",
     "output_type": "stream",
     "text": [
      "2\n",
      "10\n",
      "4\n",
      "= : 11.5\n",
      "      \n",
      "      \n",
      "2\n",
      "5\n",
      "5\n",
      "= : 7.5\n",
      "      \n",
      "      \n",
      "8\n",
      "4\n",
      "6\n",
      "= : 4.5\n",
      "      \n",
      "      \n",
      "5\n",
      "8\n",
      "8\n",
      "= : 4.5\n",
      "      \n",
      "      \n",
      "7\n",
      "5\n",
      "1\n",
      "= : 7.5\n",
      "      \n",
      "      \n",
      "6\n",
      "4\n",
      "2\n",
      "= : 7.5\n",
      "      \n",
      "      \n",
      "1\n",
      "2\n",
      "1\n",
      "= : 15.5\n",
      "      \n",
      "      \n",
      "4\n",
      "9\n",
      "2\n",
      "= : 10.5\n",
      "      \n",
      "      \n"
     ]
    }
   ],
   "source": [
    "for i in point_lis:\n",
    " #   ss=sum(abs(i[0]-2.6 )+abs(i[1]-8)+abs(i[2]-3.6))\n",
    "    print(i[0])\n",
    "    print(i[1])\n",
    "    print(i[2])\n",
    "    print(\"= :\",abs(i[0]-6.5)+abs(i[1]-6)+abs(i[2]-7))\n",
    "    print(\"      \")\n",
    "    print(\"      \")"
   ]
  },
  {
   "cell_type": "code",
   "execution_count": 76,
   "id": "1420243a",
   "metadata": {
    "collapsed": true
   },
   "outputs": [
    {
     "name": "stdout",
     "output_type": "stream",
     "text": [
      "2\n",
      "10\n",
      "4\n",
      "= : 9.7\n",
      "      \n",
      "      \n",
      "2\n",
      "5\n",
      "5\n",
      "= : 5.7\n",
      "      \n",
      "      \n",
      "8\n",
      "4\n",
      "6\n",
      "= : 10.5\n",
      "      \n",
      "      \n",
      "5\n",
      "8\n",
      "8\n",
      "= : 13.5\n",
      "      \n",
      "      \n",
      "7\n",
      "5\n",
      "1\n",
      "= : 6.1000000000000005\n",
      "      \n",
      "      \n",
      "6\n",
      "4\n",
      "2\n",
      "= : 4.5\n",
      "      \n",
      "      \n",
      "1\n",
      "2\n",
      "1\n",
      "= : 3.5\n",
      "      \n",
      "      \n",
      "4\n",
      "9\n",
      "2\n",
      "= : 7.500000000000001\n",
      "      \n",
      "      \n"
     ]
    }
   ],
   "source": [
    "for i in point_lis:\n",
    " #   ss=sum(abs(i[0]-2.6 )+abs(i[1]-8)+abs(i[2]-3.6))\n",
    "    print(i[0])\n",
    "    print(i[1])\n",
    "    print(i[2])\n",
    "    print(\"= :\",abs(i[0]-2.6)+abs(i[1]-3.6)+abs(i[2]-1.3))\n",
    "    print(\"      \")\n",
    "    print(\"      \")"
   ]
  },
  {
   "cell_type": "code",
   "execution_count": 78,
   "id": "81426f0c",
   "metadata": {},
   "outputs": [
    {
     "data": {
      "text/plain": [
       "6.5"
      ]
     },
     "execution_count": 78,
     "metadata": {},
     "output_type": "execute_result"
    }
   ],
   "source": [
    "(8+5)/2"
   ]
  },
  {
   "cell_type": "code",
   "execution_count": null,
   "id": "87fb119b",
   "metadata": {},
   "outputs": [],
   "source": [
    "for i in point_lis:\n",
    " #   ss=sum(abs(i[0]-2.6 )+abs(i[1]-8)+abs(i[2]-3.6))\n",
    "    print(i[0])\n",
    "    print(i[1])\n",
    "    print(i[2])\n",
    "    print(\"= :\",abs(i[0]-6.5)+abs(i[1]-6)+abs(i[2]-7))\n",
    "    print(\"      \")\n",
    "    print(\"      \")"
   ]
  }
 ],
 "metadata": {
  "kernelspec": {
   "display_name": "Python 3 (ipykernel)",
   "language": "python",
   "name": "python3"
  },
  "language_info": {
   "codemirror_mode": {
    "name": "ipython",
    "version": 3
   },
   "file_extension": ".py",
   "mimetype": "text/x-python",
   "name": "python",
   "nbconvert_exporter": "python",
   "pygments_lexer": "ipython3",
   "version": "3.9.13"
  }
 },
 "nbformat": 4,
 "nbformat_minor": 5
}
