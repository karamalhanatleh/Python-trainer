{
 "cells": [
  {
   "cell_type": "code",
   "execution_count": 183,
   "id": "65098bab",
   "metadata": {},
   "outputs": [],
   "source": [
    "import numpy as np\n",
    "x1='asdfghjklzxcvbnmqwertyuiop'\n",
    "x1=list(x1)"
   ]
  },
  {
   "cell_type": "code",
   "execution_count": 194,
   "id": "d230d4d3",
   "metadata": {},
   "outputs": [
    {
     "ename": "NameError",
     "evalue": "name 'ttttt' is not defined",
     "output_type": "error",
     "traceback": [
      "\u001b[1;31m---------------------------------------------------------------------------\u001b[0m",
      "\u001b[1;31mNameError\u001b[0m                                 Traceback (most recent call last)",
      "\u001b[1;32mC:\\Users\\KRM020~1\\AppData\\Local\\Temp/ipykernel_17448/4081616733.py\u001b[0m in \u001b[0;36m<module>\u001b[1;34m\u001b[0m\n\u001b[0;32m      1\u001b[0m \u001b[0ma1\u001b[0m\u001b[1;33m=\u001b[0m\u001b[0mnp\u001b[0m\u001b[1;33m.\u001b[0m\u001b[0mrandom\u001b[0m\u001b[1;33m.\u001b[0m\u001b[0mchoice\u001b[0m\u001b[1;33m(\u001b[0m\u001b[0mx1\u001b[0m\u001b[1;33m)\u001b[0m\u001b[1;33m\u001b[0m\u001b[1;33m\u001b[0m\u001b[0m\n\u001b[1;32m----> 2\u001b[1;33m \u001b[0mttttt\u001b[0m\u001b[1;33m\u001b[0m\u001b[1;33m\u001b[0m\u001b[0m\n\u001b[0m\u001b[0;32m      3\u001b[0m \u001b[0ma2\u001b[0m\u001b[1;33m=\u001b[0m\u001b[0mnp\u001b[0m\u001b[1;33m.\u001b[0m\u001b[0mrandom\u001b[0m\u001b[1;33m.\u001b[0m\u001b[0mchoice\u001b[0m\u001b[1;33m(\u001b[0m\u001b[0mx1\u001b[0m\u001b[1;33m)\u001b[0m\u001b[1;33m\u001b[0m\u001b[1;33m\u001b[0m\u001b[0m\n",
      "\u001b[1;31mNameError\u001b[0m: name 'ttttt' is not defined"
     ]
    }
   ],
   "source": [
    "a1=np.random.choice(x1)\n",
    "ttttt\n",
    "a2=np.random.choice(x1)"
   ]
  },
  {
   "cell_type": "code",
   "execution_count": 187,
   "id": "eda8df6e",
   "metadata": {},
   "outputs": [],
   "source": [
    "#a1=str(a1)\n",
    "#a2=str(a2)\n",
    "a3=str(a1+a2)\n"
   ]
  },
  {
   "cell_type": "code",
   "execution_count": 190,
   "id": "533866f8",
   "metadata": {},
   "outputs": [],
   "source": [
    "import jupyter as jj"
   ]
  },
  {
   "cell_type": "code",
   "execution_count": 191,
   "id": "c747a4f4",
   "metadata": {},
   "outputs": [
    {
     "ename": "SyntaxError",
     "evalue": "invalid syntax (Temp/ipykernel_17448/3378741978.py, line 1)",
     "output_type": "error",
     "traceback": [
      "\u001b[1;36m  File \u001b[1;32m\"C:\\Users\\KRM020~1\\AppData\\Local\\Temp/ipykernel_17448/3378741978.py\"\u001b[1;36m, line \u001b[1;32m1\u001b[0m\n\u001b[1;33m    jj.\u001b[0m\n\u001b[1;37m       ^\u001b[0m\n\u001b[1;31mSyntaxError\u001b[0m\u001b[1;31m:\u001b[0m invalid syntax\n"
     ]
    }
   ],
   "source": [
    "jj."
   ]
  },
  {
   "cell_type": "code",
   "execution_count": null,
   "id": "0504272f",
   "metadata": {},
   "outputs": [],
   "source": []
  }
 ],
 "metadata": {
  "kernelspec": {
   "display_name": "Python 3 (ipykernel)",
   "language": "python",
   "name": "python3"
  },
  "language_info": {
   "codemirror_mode": {
    "name": "ipython",
    "version": 3
   },
   "file_extension": ".py",
   "mimetype": "text/x-python",
   "name": "python",
   "nbconvert_exporter": "python",
   "pygments_lexer": "ipython3",
   "version": "3.9.7"
  }
 },
 "nbformat": 4,
 "nbformat_minor": 5
}
