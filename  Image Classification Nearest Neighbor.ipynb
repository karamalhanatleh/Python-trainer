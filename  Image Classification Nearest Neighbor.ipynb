{
 "cells": [
  {
   "cell_type": "markdown",
   "id": "5cb937ee",
   "metadata": {},
   "source": [
    "# Image Classification Nearest Neighbor"
   ]
  },
  {
   "cell_type": "code",
   "execution_count": 1,
   "id": "706b5678",
   "metadata": {},
   "outputs": [],
   "source": [
    "#import paskages \n",
    "import numpy as np"
   ]
  },
  {
   "cell_type": "code",
   "execution_count": null,
   "id": "f4c7cd0a",
   "metadata": {},
   "outputs": [],
   "source": []
  },
  {
   "cell_type": "code",
   "execution_count": 9,
   "id": "740d2749",
   "metadata": {},
   "outputs": [],
   "source": [
    "class NearestNeighbor:\n",
    "    def __init__(self):\n",
    "        pass\n",
    "    \n",
    "    def train(self,X,y):\n",
    "        \n",
    "        self.Xtr=X\n",
    "        self.ytr=y\n",
    "    \n",
    "    \n",
    "    def predict(self,X):\n",
    "        \n",
    "        num_test=X.shape[0]\n",
    "        \n",
    "        Ypred = np.zeros(num_test , dtype = self.ytr.dtype)\n",
    "        \n",
    "        for i in xrange(num_test):\n",
    "            \n",
    "            distance = np.sum(np.abs(self.Xtr -  X[i,:]), axis=1)\n",
    "            min_index = np.argmin(distance)\n",
    "            \n",
    "            \n",
    "            Ypred[i] = self.ytr[min_index]\n",
    "            \n",
    "        return Ypred"
   ]
  },
  {
   "cell_type": "code",
   "execution_count": null,
   "id": "a753e83f",
   "metadata": {},
   "outputs": [],
   "source": []
  },
  {
   "cell_type": "code",
   "execution_count": null,
   "id": "16c0b93b",
   "metadata": {},
   "outputs": [],
   "source": []
  }
 ],
 "metadata": {
  "kernelspec": {
   "display_name": "Python 3 (ipykernel)",
   "language": "python",
   "name": "python3"
  },
  "language_info": {
   "codemirror_mode": {
    "name": "ipython",
    "version": 3
   },
   "file_extension": ".py",
   "mimetype": "text/x-python",
   "name": "python",
   "nbconvert_exporter": "python",
   "pygments_lexer": "ipython3",
   "version": "3.9.13"
  }
 },
 "nbformat": 4,
 "nbformat_minor": 5
}
