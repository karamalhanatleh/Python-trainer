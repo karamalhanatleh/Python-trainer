{
 "cells": [
  {
   "cell_type": "markdown",
   "id": "fac1bdf0",
   "metadata": {},
   "source": [
    "# Principal Components Analysis (PCA)"
   ]
  },
  {
   "cell_type": "code",
   "execution_count": 1,
   "id": "c0228857",
   "metadata": {},
   "outputs": [],
   "source": [
    "#import paskages \n",
    "import pandas as pd\n",
    "from sklearn.decomposition import PCA"
   ]
  },
  {
   "cell_type": "code",
   "execution_count": 12,
   "id": "b605ca3a",
   "metadata": {},
   "outputs": [
    {
     "data": {
      "text/html": [
       "<div>\n",
       "<style scoped>\n",
       "    .dataframe tbody tr th:only-of-type {\n",
       "        vertical-align: middle;\n",
       "    }\n",
       "\n",
       "    .dataframe tbody tr th {\n",
       "        vertical-align: top;\n",
       "    }\n",
       "\n",
       "    .dataframe thead th {\n",
       "        text-align: right;\n",
       "    }\n",
       "</style>\n",
       "<table border=\"1\" class=\"dataframe\">\n",
       "  <thead>\n",
       "    <tr style=\"text-align: right;\">\n",
       "      <th></th>\n",
       "      <th>A</th>\n",
       "      <th>B</th>\n",
       "      <th>C</th>\n",
       "    </tr>\n",
       "  </thead>\n",
       "  <tbody>\n",
       "    <tr>\n",
       "      <th>0</th>\n",
       "      <td>1.0</td>\n",
       "      <td>2.0</td>\n",
       "      <td>3.0</td>\n",
       "    </tr>\n",
       "    <tr>\n",
       "      <th>1</th>\n",
       "      <td>2.0</td>\n",
       "      <td>4.0</td>\n",
       "      <td>6.0</td>\n",
       "    </tr>\n",
       "    <tr>\n",
       "      <th>2</th>\n",
       "      <td>3.0</td>\n",
       "      <td>6.0</td>\n",
       "      <td>9.0</td>\n",
       "    </tr>\n",
       "    <tr>\n",
       "      <th>3</th>\n",
       "      <td>4.0</td>\n",
       "      <td>8.0</td>\n",
       "      <td>12.0</td>\n",
       "    </tr>\n",
       "    <tr>\n",
       "      <th>4</th>\n",
       "      <td>5.0</td>\n",
       "      <td>10.0</td>\n",
       "      <td>15.0</td>\n",
       "    </tr>\n",
       "    <tr>\n",
       "      <th>5</th>\n",
       "      <td>6.0</td>\n",
       "      <td>12.0</td>\n",
       "      <td>18.0</td>\n",
       "    </tr>\n",
       "    <tr>\n",
       "      <th>6</th>\n",
       "      <td>7.0</td>\n",
       "      <td>14.0</td>\n",
       "      <td>21.0</td>\n",
       "    </tr>\n",
       "    <tr>\n",
       "      <th>7</th>\n",
       "      <td>8.0</td>\n",
       "      <td>16.0</td>\n",
       "      <td>24.0</td>\n",
       "    </tr>\n",
       "    <tr>\n",
       "      <th>8</th>\n",
       "      <td>9.0</td>\n",
       "      <td>18.0</td>\n",
       "      <td>27.0</td>\n",
       "    </tr>\n",
       "    <tr>\n",
       "      <th>9</th>\n",
       "      <td>10.0</td>\n",
       "      <td>20.0</td>\n",
       "      <td>30.0</td>\n",
       "    </tr>\n",
       "  </tbody>\n",
       "</table>\n",
       "</div>"
      ],
      "text/plain": [
       "      A     B     C\n",
       "0   1.0   2.0   3.0\n",
       "1   2.0   4.0   6.0\n",
       "2   3.0   6.0   9.0\n",
       "3   4.0   8.0  12.0\n",
       "4   5.0  10.0  15.0\n",
       "5   6.0  12.0  18.0\n",
       "6   7.0  14.0  21.0\n",
       "7   8.0  16.0  24.0\n",
       "8   9.0  18.0  27.0\n",
       "9  10.0  20.0  30.0"
      ]
     },
     "execution_count": 12,
     "metadata": {},
     "output_type": "execute_result"
    }
   ],
   "source": [
    "# Create a sample DataFrame\n",
    "data = {\n",
    "    'A': [1.0, 2.0, 3.0, 4.0, 5.0,    6.0   ,7.0    ,8.0  ,9.0  , 10.0],\n",
    "    'B': [2.0, 4.0, 6.0, 8.0, 10.0  , 12.0 , 14.0 ,  16.0  ,18.0  , 20.0],\n",
    "    'C': [3.0, 6.0, 9.0, 12.0, 15.0  ,18.0  ,  21.0  ,24.0  , 27.0 , 30.0 ]\n",
    "}\n",
    "df = pd.DataFrame(data)\n",
    "df"
   ]
  },
  {
   "cell_type": "code",
   "execution_count": 19,
   "id": "a9c941ed",
   "metadata": {},
   "outputs": [],
   "source": [
    "\n",
    "# Instantiate a PCA object\n",
    "pca = PCA(n_components=2)  # Specify the number of components you want to keep"
   ]
  },
  {
   "cell_type": "code",
   "execution_count": 20,
   "id": "da55dfe4",
   "metadata": {},
   "outputs": [],
   "source": [
    "# Fit and transform the data\n",
    "reduced_data = pca.fit_transform(df)"
   ]
  },
  {
   "cell_type": "code",
   "execution_count": 21,
   "id": "e4989930",
   "metadata": {},
   "outputs": [],
   "source": [
    "# Create a DataFrame with the reduced data\n",
    "reduced_df = pd.DataFrame(reduced_data , columns=['X',\"Y\"])"
   ]
  },
  {
   "cell_type": "code",
   "execution_count": 22,
   "id": "95c96c71",
   "metadata": {},
   "outputs": [
    {
     "data": {
      "text/html": [
       "<div>\n",
       "<style scoped>\n",
       "    .dataframe tbody tr th:only-of-type {\n",
       "        vertical-align: middle;\n",
       "    }\n",
       "\n",
       "    .dataframe tbody tr th {\n",
       "        vertical-align: top;\n",
       "    }\n",
       "\n",
       "    .dataframe thead th {\n",
       "        text-align: right;\n",
       "    }\n",
       "</style>\n",
       "<table border=\"1\" class=\"dataframe\">\n",
       "  <thead>\n",
       "    <tr style=\"text-align: right;\">\n",
       "      <th></th>\n",
       "      <th>X</th>\n",
       "      <th>Y</th>\n",
       "    </tr>\n",
       "  </thead>\n",
       "  <tbody>\n",
       "    <tr>\n",
       "      <th>0</th>\n",
       "      <td>-16.837458</td>\n",
       "      <td>2.230688e-15</td>\n",
       "    </tr>\n",
       "    <tr>\n",
       "      <th>1</th>\n",
       "      <td>-13.095801</td>\n",
       "      <td>-7.336548e-16</td>\n",
       "    </tr>\n",
       "    <tr>\n",
       "      <th>2</th>\n",
       "      <td>-9.354143</td>\n",
       "      <td>-4.455902e-16</td>\n",
       "    </tr>\n",
       "    <tr>\n",
       "      <th>3</th>\n",
       "      <td>-5.612486</td>\n",
       "      <td>-1.575256e-16</td>\n",
       "    </tr>\n",
       "    <tr>\n",
       "      <th>4</th>\n",
       "      <td>-1.870829</td>\n",
       "      <td>-7.538947e-17</td>\n",
       "    </tr>\n",
       "    <tr>\n",
       "      <th>5</th>\n",
       "      <td>1.870829</td>\n",
       "      <td>7.538947e-17</td>\n",
       "    </tr>\n",
       "    <tr>\n",
       "      <th>6</th>\n",
       "      <td>5.612486</td>\n",
       "      <td>1.575256e-16</td>\n",
       "    </tr>\n",
       "    <tr>\n",
       "      <th>7</th>\n",
       "      <td>9.354143</td>\n",
       "      <td>4.455902e-16</td>\n",
       "    </tr>\n",
       "    <tr>\n",
       "      <th>8</th>\n",
       "      <td>13.095801</td>\n",
       "      <td>7.336548e-16</td>\n",
       "    </tr>\n",
       "    <tr>\n",
       "      <th>9</th>\n",
       "      <td>16.837458</td>\n",
       "      <td>4.725767e-16</td>\n",
       "    </tr>\n",
       "  </tbody>\n",
       "</table>\n",
       "</div>"
      ],
      "text/plain": [
       "           X             Y\n",
       "0 -16.837458  2.230688e-15\n",
       "1 -13.095801 -7.336548e-16\n",
       "2  -9.354143 -4.455902e-16\n",
       "3  -5.612486 -1.575256e-16\n",
       "4  -1.870829 -7.538947e-17\n",
       "5   1.870829  7.538947e-17\n",
       "6   5.612486  1.575256e-16\n",
       "7   9.354143  4.455902e-16\n",
       "8  13.095801  7.336548e-16\n",
       "9  16.837458  4.725767e-16"
      ]
     },
     "execution_count": 22,
     "metadata": {},
     "output_type": "execute_result"
    }
   ],
   "source": [
    "reduced_df"
   ]
  },
  {
   "cell_type": "code",
   "execution_count": 23,
   "id": "ac06c2f2",
   "metadata": {},
   "outputs": [
    {
     "name": "stdout",
     "output_type": "stream",
     "text": [
      "Explained Variance Ratio for Component 1: 1.0000\n",
      "Explained Variance Ratio for Component 2: 0.0000\n"
     ]
    }
   ],
   "source": [
    "explained_variance_ratios = pca.explained_variance_ratio_\n",
    "\n",
    "# Print the explained variance ratios for each component\n",
    "for i, explained_variance_ratio in enumerate(explained_variance_ratios):\n",
    "    print(f\"Explained Variance Ratio for Component {i + 1}: {explained_variance_ratio:.4f}\")\n"
   ]
  },
  {
   "cell_type": "code",
   "execution_count": null,
   "id": "ab7ad120",
   "metadata": {},
   "outputs": [],
   "source": []
  },
  {
   "cell_type": "code",
   "execution_count": null,
   "id": "2d76476e",
   "metadata": {},
   "outputs": [],
   "source": []
  }
 ],
 "metadata": {
  "kernelspec": {
   "display_name": "Python 3 (ipykernel)",
   "language": "python",
   "name": "python3"
  },
  "language_info": {
   "codemirror_mode": {
    "name": "ipython",
    "version": 3
   },
   "file_extension": ".py",
   "mimetype": "text/x-python",
   "name": "python",
   "nbconvert_exporter": "python",
   "pygments_lexer": "ipython3",
   "version": "3.9.13"
  }
 },
 "nbformat": 4,
 "nbformat_minor": 5
}
