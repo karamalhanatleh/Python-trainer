{
 "cells": [
  {
   "cell_type": "code",
   "execution_count": 2,
   "id": "3909b5e2",
   "metadata": {},
   "outputs": [],
   "source": [
    "import numpy as np"
   ]
  },
  {
   "cell_type": "code",
   "execution_count": null,
   "id": "03a96706",
   "metadata": {},
   "outputs": [],
   "source": []
  },
  {
   "cell_type": "code",
   "execution_count": 91,
   "id": "77de6733",
   "metadata": {},
   "outputs": [],
   "source": [
    "\n",
    "from faker import Faker"
   ]
  },
  {
   "cell_type": "code",
   "execution_count": 112,
   "id": "9d076a5b",
   "metadata": {},
   "outputs": [],
   "source": [
    "fake=Faker()"
   ]
  },
  {
   "cell_type": "code",
   "execution_count": 113,
   "id": "bef3177c",
   "metadata": {},
   "outputs": [
    {
     "data": {
      "text/plain": [
       "<faker.proxy.Faker at 0x1da353691c0>"
      ]
     },
     "execution_count": 113,
     "metadata": {},
     "output_type": "execute_result"
    }
   ],
   "source": [
    "fake"
   ]
  },
  {
   "cell_type": "code",
   "execution_count": 117,
   "id": "cff82b30",
   "metadata": {},
   "outputs": [],
   "source": [
    "lis=[]\n",
    "for i in range(10):\n",
    "    c=fake.words()\n",
    "    lis.append(c)"
   ]
  },
  {
   "cell_type": "code",
   "execution_count": 118,
   "id": "0eea19fe",
   "metadata": {},
   "outputs": [
    {
     "data": {
      "text/plain": [
       "[['compare', 'conference', 'owner'],\n",
       " ['wind', 'me', 'use'],\n",
       " ['who', 'serious', 'ago'],\n",
       " ['and', 'work', 'any'],\n",
       " ['where', 'necessary', 'job'],\n",
       " ['inside', 'officer', 'meeting'],\n",
       " ['strong', 'among', 'thought'],\n",
       " ['read', 'meeting', 'office'],\n",
       " ['time', 'care', 'arm'],\n",
       " ['near', 'quite', 'determine']]"
      ]
     },
     "execution_count": 118,
     "metadata": {},
     "output_type": "execute_result"
    }
   ],
   "source": [
    "lis"
   ]
  },
  {
   "cell_type": "code",
   "execution_count": 104,
   "id": "162d6e05",
   "metadata": {},
   "outputs": [],
   "source": [
    "def group_assignment(data,centroids):\n",
    "    grouping_vec_c = np.zeros(len(data))\n",
    "    for i in range(len(data)):\n",
    "        dist = np.zeros(len(centroids))\n",
    "        for j in range(len(centroids)):\n",
    "            dist[j] = np.linalg.norm(data[i] - centroids[j])\n",
    "        min_dist = min(dist)\n",
    "        for j in range(len(centroids)):\n",
    "            if min_dist == dist[j]:\n",
    "                grouping_vec_c[i] = j+1\n",
    "    return grouping_vec_c"
   ]
  },
  {
   "cell_type": "code",
   "execution_count": null,
   "id": "bcad55b0",
   "metadata": {},
   "outputs": [],
   "source": [
    "a=np.array([[14,14,15],[25,27,36],[5,10,18],[29,28,38],[0,0,0]])\n",
    "b=np.array([[0],[100]])\n"
   ]
  },
  {
   "cell_type": "code",
   "execution_count": null,
   "id": "f2dd0732",
   "metadata": {},
   "outputs": [],
   "source": [
    "group_assignment(a,b)"
   ]
  },
  {
   "cell_type": "code",
   "execution_count": null,
   "id": "9e73f5e8",
   "metadata": {},
   "outputs": [],
   "source": [
    "from sklearn.cluster import KMeans\n",
    "import numpy as np\n",
    "data=a\n",
    "kmeans = KMeans(n_clusters=2, random_state=0).fit(data)\n",
    "labels = kmeans.labels_\n",
    "group_representative = kmeans.cluster_centers_\n",
    "J_clust = kmeans.inertia_"
   ]
  },
  {
   "cell_type": "code",
   "execution_count": null,
   "id": "71656c38",
   "metadata": {},
   "outputs": [],
   "source": [
    "labels"
   ]
  },
  {
   "cell_type": "code",
   "execution_count": null,
   "id": "ee18e340",
   "metadata": {},
   "outputs": [],
   "source": [
    "group_representative"
   ]
  },
  {
   "cell_type": "code",
   "execution_count": null,
   "id": "8697f61d",
   "metadata": {},
   "outputs": [],
   "source": [
    "J_clust"
   ]
  },
  {
   "cell_type": "code",
   "execution_count": null,
   "id": "adcc0f4b",
   "metadata": {},
   "outputs": [],
   "source": []
  },
  {
   "cell_type": "code",
   "execution_count": null,
   "id": "d195c4ce",
   "metadata": {},
   "outputs": [],
   "source": []
  }
 ],
 "metadata": {
  "kernelspec": {
   "display_name": "Python 3 (ipykernel)",
   "language": "python",
   "name": "python3"
  },
  "language_info": {
   "codemirror_mode": {
    "name": "ipython",
    "version": 3
   },
   "file_extension": ".py",
   "mimetype": "text/x-python",
   "name": "python",
   "nbconvert_exporter": "python",
   "pygments_lexer": "ipython3",
   "version": "3.9.7"
  }
 },
 "nbformat": 4,
 "nbformat_minor": 5
}
